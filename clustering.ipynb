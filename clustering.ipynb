{
 "cells": [
  {
   "cell_type": "markdown",
   "metadata": {},
   "source": [
    "# Final Task Kalbe Nutritionals"
   ]
  },
  {
   "cell_type": "markdown",
   "metadata": {},
   "source": [
    "## Data Understanding"
   ]
  },
  {
   "cell_type": "markdown",
   "metadata": {},
   "source": [
    "### Import & Merge Data"
   ]
  },
  {
   "cell_type": "code",
   "execution_count": 755,
   "metadata": {},
   "outputs": [],
   "source": [
    "import pandas as pd\n",
    "import numpy as np \n",
    "import warnings\n",
    "pd.options.display.max_columns = None\n",
    "warnings.filterwarnings(\"ignore\")\n",
    "\n",
    "df_customer = pd.read_csv('D:\\GitHub\\Final-Task-Kalbe\\Dataset\\Customer.csv', sep=';')\n",
    "df_product = pd.read_csv('D:\\GitHub\\Final-Task-Kalbe\\Dataset\\Product.csv', sep=';')\n",
    "df_store = pd.read_csv('D:\\GitHub\\Final-Task-Kalbe\\Dataset\\Store.csv', sep=';')\n",
    "df_transaction = pd.read_csv('D:\\GitHub\\Final-Task-Kalbe\\Dataset\\Transaction.csv', sep=';')"
   ]
  },
  {
   "cell_type": "code",
   "execution_count": 756,
   "metadata": {},
   "outputs": [],
   "source": [
    "# Melakukan operasi join antara tabel-tabel\n",
    "df = pd.merge(df_transaction, df_product, on='ProductID')\n",
    "df = pd.merge(df, df_store, on='StoreID')\n",
    "df = pd.merge(df, df_customer, on='CustomerID')"
   ]
  },
  {
   "cell_type": "markdown",
   "metadata": {},
   "source": [
    "## Pre-Exploratory Data Analysis (EDA)"
   ]
  },
  {
   "cell_type": "code",
   "execution_count": 757,
   "metadata": {},
   "outputs": [
    {
     "data": {
      "text/html": [
       "<div>\n",
       "<style scoped>\n",
       "    .dataframe tbody tr th:only-of-type {\n",
       "        vertical-align: middle;\n",
       "    }\n",
       "\n",
       "    .dataframe tbody tr th {\n",
       "        vertical-align: top;\n",
       "    }\n",
       "\n",
       "    .dataframe thead th {\n",
       "        text-align: right;\n",
       "    }\n",
       "</style>\n",
       "<table border=\"1\" class=\"dataframe\">\n",
       "  <thead>\n",
       "    <tr style=\"text-align: right;\">\n",
       "      <th></th>\n",
       "      <th>TransactionID</th>\n",
       "      <th>CustomerID</th>\n",
       "      <th>Date</th>\n",
       "      <th>ProductID</th>\n",
       "      <th>Price_x</th>\n",
       "      <th>Qty</th>\n",
       "      <th>TotalAmount</th>\n",
       "      <th>StoreID</th>\n",
       "      <th>Product Name</th>\n",
       "      <th>Price_y</th>\n",
       "      <th>StoreName</th>\n",
       "      <th>GroupStore</th>\n",
       "      <th>Type</th>\n",
       "      <th>Latitude</th>\n",
       "      <th>Longitude</th>\n",
       "      <th>Age</th>\n",
       "      <th>Gender</th>\n",
       "      <th>Marital Status</th>\n",
       "      <th>Income</th>\n",
       "    </tr>\n",
       "  </thead>\n",
       "  <tbody>\n",
       "    <tr>\n",
       "      <th>0</th>\n",
       "      <td>TR11369</td>\n",
       "      <td>328</td>\n",
       "      <td>01/01/2022</td>\n",
       "      <td>P3</td>\n",
       "      <td>7500</td>\n",
       "      <td>4</td>\n",
       "      <td>30000</td>\n",
       "      <td>12</td>\n",
       "      <td>Crackers</td>\n",
       "      <td>7500</td>\n",
       "      <td>Prestasi Utama</td>\n",
       "      <td>Prestasi</td>\n",
       "      <td>General Trade</td>\n",
       "      <td>-2,990934</td>\n",
       "      <td>104,756554</td>\n",
       "      <td>36</td>\n",
       "      <td>0</td>\n",
       "      <td>Married</td>\n",
       "      <td>10,53</td>\n",
       "    </tr>\n",
       "    <tr>\n",
       "      <th>1</th>\n",
       "      <td>TR56601</td>\n",
       "      <td>328</td>\n",
       "      <td>24/12/2022</td>\n",
       "      <td>P9</td>\n",
       "      <td>10000</td>\n",
       "      <td>1</td>\n",
       "      <td>10000</td>\n",
       "      <td>9</td>\n",
       "      <td>Yoghurt</td>\n",
       "      <td>10000</td>\n",
       "      <td>Lingga</td>\n",
       "      <td>Lingga</td>\n",
       "      <td>Modern Trade</td>\n",
       "      <td>-3,654703</td>\n",
       "      <td>128,190643</td>\n",
       "      <td>36</td>\n",
       "      <td>0</td>\n",
       "      <td>Married</td>\n",
       "      <td>10,53</td>\n",
       "    </tr>\n",
       "    <tr>\n",
       "      <th>2</th>\n",
       "      <td>TR89012</td>\n",
       "      <td>328</td>\n",
       "      <td>25/03/2022</td>\n",
       "      <td>P5</td>\n",
       "      <td>4200</td>\n",
       "      <td>5</td>\n",
       "      <td>21000</td>\n",
       "      <td>6</td>\n",
       "      <td>Thai Tea</td>\n",
       "      <td>4200</td>\n",
       "      <td>Lingga</td>\n",
       "      <td>Lingga</td>\n",
       "      <td>Modern Trade</td>\n",
       "      <td>-5,135399</td>\n",
       "      <td>119,42379</td>\n",
       "      <td>36</td>\n",
       "      <td>0</td>\n",
       "      <td>Married</td>\n",
       "      <td>10,53</td>\n",
       "    </tr>\n",
       "    <tr>\n",
       "      <th>3</th>\n",
       "      <td>TR67395</td>\n",
       "      <td>328</td>\n",
       "      <td>22/01/2022</td>\n",
       "      <td>P8</td>\n",
       "      <td>16000</td>\n",
       "      <td>3</td>\n",
       "      <td>48000</td>\n",
       "      <td>11</td>\n",
       "      <td>Oat</td>\n",
       "      <td>16000</td>\n",
       "      <td>Sinar Harapan</td>\n",
       "      <td>Prestasi</td>\n",
       "      <td>General Trade</td>\n",
       "      <td>0,533505</td>\n",
       "      <td>101,447403</td>\n",
       "      <td>36</td>\n",
       "      <td>0</td>\n",
       "      <td>Married</td>\n",
       "      <td>10,53</td>\n",
       "    </tr>\n",
       "    <tr>\n",
       "      <th>4</th>\n",
       "      <td>TR45738</td>\n",
       "      <td>328</td>\n",
       "      <td>29/12/2022</td>\n",
       "      <td>P2</td>\n",
       "      <td>3200</td>\n",
       "      <td>3</td>\n",
       "      <td>9600</td>\n",
       "      <td>11</td>\n",
       "      <td>Ginger Candy</td>\n",
       "      <td>3200</td>\n",
       "      <td>Sinar Harapan</td>\n",
       "      <td>Prestasi</td>\n",
       "      <td>General Trade</td>\n",
       "      <td>0,533505</td>\n",
       "      <td>101,447403</td>\n",
       "      <td>36</td>\n",
       "      <td>0</td>\n",
       "      <td>Married</td>\n",
       "      <td>10,53</td>\n",
       "    </tr>\n",
       "  </tbody>\n",
       "</table>\n",
       "</div>"
      ],
      "text/plain": [
       "  TransactionID  CustomerID        Date ProductID  Price_x  Qty  TotalAmount  \\\n",
       "0       TR11369         328  01/01/2022        P3     7500    4        30000   \n",
       "1       TR56601         328  24/12/2022        P9    10000    1        10000   \n",
       "2       TR89012         328  25/03/2022        P5     4200    5        21000   \n",
       "3       TR67395         328  22/01/2022        P8    16000    3        48000   \n",
       "4       TR45738         328  29/12/2022        P2     3200    3         9600   \n",
       "\n",
       "   StoreID   Product Name  Price_y       StoreName GroupStore           Type  \\\n",
       "0       12       Crackers     7500  Prestasi Utama   Prestasi  General Trade   \n",
       "1        9        Yoghurt    10000          Lingga     Lingga   Modern Trade   \n",
       "2        6       Thai Tea     4200          Lingga     Lingga   Modern Trade   \n",
       "3       11            Oat    16000   Sinar Harapan   Prestasi  General Trade   \n",
       "4       11  Ginger Candy      3200   Sinar Harapan   Prestasi  General Trade   \n",
       "\n",
       "    Latitude   Longitude  Age  Gender Marital Status Income  \n",
       "0  -2,990934  104,756554   36       0        Married  10,53  \n",
       "1  -3,654703  128,190643   36       0        Married  10,53  \n",
       "2  -5,135399   119,42379   36       0        Married  10,53  \n",
       "3   0,533505  101,447403   36       0        Married  10,53  \n",
       "4   0,533505  101,447403   36       0        Married  10,53  "
      ]
     },
     "execution_count": 757,
     "metadata": {},
     "output_type": "execute_result"
    }
   ],
   "source": [
    "df.head()"
   ]
  },
  {
   "cell_type": "code",
   "execution_count": 758,
   "metadata": {},
   "outputs": [
    {
     "name": "stdout",
     "output_type": "stream",
     "text": [
      "<class 'pandas.core.frame.DataFrame'>\n",
      "Int64Index: 5020 entries, 0 to 5019\n",
      "Data columns (total 19 columns):\n",
      " #   Column          Non-Null Count  Dtype \n",
      "---  ------          --------------  ----- \n",
      " 0   TransactionID   5020 non-null   object\n",
      " 1   CustomerID      5020 non-null   int64 \n",
      " 2   Date            5020 non-null   object\n",
      " 3   ProductID       5020 non-null   object\n",
      " 4   Price_x         5020 non-null   int64 \n",
      " 5   Qty             5020 non-null   int64 \n",
      " 6   TotalAmount     5020 non-null   int64 \n",
      " 7   StoreID         5020 non-null   int64 \n",
      " 8   Product Name    5020 non-null   object\n",
      " 9   Price_y         5020 non-null   int64 \n",
      " 10  StoreName       5020 non-null   object\n",
      " 11  GroupStore      5020 non-null   object\n",
      " 12  Type            5020 non-null   object\n",
      " 13  Latitude        5020 non-null   object\n",
      " 14  Longitude       5020 non-null   object\n",
      " 15  Age             5020 non-null   int64 \n",
      " 16  Gender          5020 non-null   int64 \n",
      " 17  Marital Status  4976 non-null   object\n",
      " 18  Income          5020 non-null   object\n",
      "dtypes: int64(8), object(11)\n",
      "memory usage: 784.4+ KB\n"
     ]
    }
   ],
   "source": [
    "df.info()"
   ]
  },
  {
   "cell_type": "code",
   "execution_count": 759,
   "metadata": {},
   "outputs": [],
   "source": [
    "# df[df['Price_x'].values == df['Price_y'].values]\n",
    "df.drop(columns=['Price_y'], inplace=True)\n",
    "df.rename(columns={'Price_x' : 'Price'}, inplace=True)"
   ]
  },
  {
   "cell_type": "code",
   "execution_count": 760,
   "metadata": {},
   "outputs": [
    {
     "data": {
      "text/html": [
       "<div>\n",
       "<style scoped>\n",
       "    .dataframe tbody tr th:only-of-type {\n",
       "        vertical-align: middle;\n",
       "    }\n",
       "\n",
       "    .dataframe tbody tr th {\n",
       "        vertical-align: top;\n",
       "    }\n",
       "\n",
       "    .dataframe thead th {\n",
       "        text-align: right;\n",
       "    }\n",
       "</style>\n",
       "<table border=\"1\" class=\"dataframe\">\n",
       "  <thead>\n",
       "    <tr style=\"text-align: right;\">\n",
       "      <th></th>\n",
       "      <th>TransactionID</th>\n",
       "      <th>CustomerID</th>\n",
       "      <th>Date</th>\n",
       "      <th>ProductID</th>\n",
       "      <th>Price</th>\n",
       "      <th>Qty</th>\n",
       "      <th>TotalAmount</th>\n",
       "      <th>StoreID</th>\n",
       "      <th>Product Name</th>\n",
       "      <th>StoreName</th>\n",
       "      <th>GroupStore</th>\n",
       "      <th>Type</th>\n",
       "      <th>Latitude</th>\n",
       "      <th>Longitude</th>\n",
       "      <th>Age</th>\n",
       "      <th>Gender</th>\n",
       "      <th>Marital Status</th>\n",
       "      <th>Income</th>\n",
       "    </tr>\n",
       "  </thead>\n",
       "  <tbody>\n",
       "  </tbody>\n",
       "</table>\n",
       "</div>"
      ],
      "text/plain": [
       "Empty DataFrame\n",
       "Columns: [TransactionID, CustomerID, Date, ProductID, Price, Qty, TotalAmount, StoreID, Product Name, StoreName, GroupStore, Type, Latitude, Longitude, Age, Gender, Marital Status, Income]\n",
       "Index: []"
      ]
     },
     "execution_count": 760,
     "metadata": {},
     "output_type": "execute_result"
    }
   ],
   "source": [
    "df[df.duplicated()]"
   ]
  },
  {
   "cell_type": "code",
   "execution_count": 761,
   "metadata": {},
   "outputs": [
    {
     "name": "stdout",
     "output_type": "stream",
     "text": [
      "~ ~ ~ TransactionID || Type : object ~ ~ ~\n",
      "['TR11369', 'TR56601', 'TR89012', 'TR67395', 'TR45738'] \n",
      "\n",
      "~ ~ ~ CustomerID || Type : int64 ~ ~ ~\n",
      "[328, 117, 335, 181, 154] \n",
      "\n",
      "~ ~ ~ Date || Type : object ~ ~ ~\n",
      "['01/01/2022', '24/12/2022', '25/03/2022', '22/01/2022', '29/12/2022'] \n",
      "\n",
      "~ ~ ~ ProductID || Type : object ~ ~ ~\n",
      "['P3', 'P9', 'P5', 'P8', 'P2'] \n",
      "\n",
      "~ ~ ~ Price || Type : int64 ~ ~ ~\n",
      "[7500, 10000, 4200, 16000, 3200] \n",
      "\n",
      "~ ~ ~ Qty || Type : int64 ~ ~ ~\n",
      "[4, 1, 5, 3, 6] \n",
      "\n",
      "~ ~ ~ TotalAmount || Type : int64 ~ ~ ~\n",
      "[30000, 10000, 21000, 48000, 9600] \n",
      "\n",
      "~ ~ ~ StoreID || Type : int64 ~ ~ ~\n",
      "[12, 9, 6, 11, 5] \n",
      "\n",
      "~ ~ ~ Product Name || Type : object ~ ~ ~\n",
      "['Crackers', 'Yoghurt', 'Thai Tea', 'Oat', 'Ginger Candy '] \n",
      "\n",
      "~ ~ ~ StoreName || Type : object ~ ~ ~\n",
      "['Prestasi Utama', 'Lingga', 'Sinar Harapan', 'Bonafid', 'Prima Tendean'] \n",
      "\n",
      "~ ~ ~ GroupStore || Type : object ~ ~ ~\n",
      "['Prestasi', 'Lingga', 'Gita', 'Prima', 'Buana'] \n",
      "\n",
      "~ ~ ~ Type || Type : object ~ ~ ~\n",
      "['General Trade', 'Modern Trade'] \n",
      "\n",
      "~ ~ ~ Latitude || Type : object ~ ~ ~\n",
      "['-2,990934', '-3,654703', '-5,135399', '0,533505', '-7,250445'] \n",
      "\n",
      "~ ~ ~ Longitude || Type : object ~ ~ ~\n",
      "['104,756554', '128,190643', '119,42379', '101,447403', '112,768845'] \n",
      "\n",
      "~ ~ ~ Age || Type : int64 ~ ~ ~\n",
      "[36, 45, 29, 33, 31] \n",
      "\n",
      "~ ~ ~ Gender || Type : int64 ~ ~ ~\n",
      "[0, 1] \n",
      "\n",
      "~ ~ ~ Marital Status || Type : object ~ ~ ~\n",
      "['Married', 'Single', nan] \n",
      "\n",
      "~ ~ ~ Income || Type : object ~ ~ ~\n",
      "['10,53', '12,55', '4,74', '9,94', '8,36'] \n",
      "\n"
     ]
    }
   ],
   "source": [
    "for i in df.columns :\n",
    "    print(f\"~ ~ ~ {i} || Type : {df[i].dtypes} ~ ~ ~\")\n",
    "    print(f\"{df[i].unique().tolist()[:5]} \\n\")"
   ]
  },
  {
   "cell_type": "code",
   "execution_count": 762,
   "metadata": {},
   "outputs": [
    {
     "data": {
      "text/plain": [
       "TransactionID      0\n",
       "CustomerID         0\n",
       "Date               0\n",
       "ProductID          0\n",
       "Price              0\n",
       "Qty                0\n",
       "TotalAmount        0\n",
       "StoreID            0\n",
       "Product Name       0\n",
       "StoreName          0\n",
       "GroupStore         0\n",
       "Type               0\n",
       "Latitude           0\n",
       "Longitude          0\n",
       "Age                0\n",
       "Gender             0\n",
       "Marital Status    44\n",
       "Income             0\n",
       "dtype: int64"
      ]
     },
     "execution_count": 762,
     "metadata": {},
     "output_type": "execute_result"
    }
   ],
   "source": [
    "df.isnull().sum()"
   ]
  },
  {
   "cell_type": "code",
   "execution_count": 763,
   "metadata": {},
   "outputs": [],
   "source": [
    "df['Latitude'] = df['Latitude'].str.replace(',', '.')\n",
    "df['Latitude'] = df['Latitude'].astype(float)\n",
    "\n",
    "df['Longitude'] = df['Longitude'].str.replace(',', '.')\n",
    "df['Longitude'] = df['Longitude'].astype(float)\n",
    "\n",
    "df['Income'] = df['Income'].str.replace(',', '.')\n",
    "df['Income'] = df['Income'].astype(float)"
   ]
  },
  {
   "cell_type": "code",
   "execution_count": 764,
   "metadata": {},
   "outputs": [
    {
     "data": {
      "text/html": [
       "<div>\n",
       "<style scoped>\n",
       "    .dataframe tbody tr th:only-of-type {\n",
       "        vertical-align: middle;\n",
       "    }\n",
       "\n",
       "    .dataframe tbody tr th {\n",
       "        vertical-align: top;\n",
       "    }\n",
       "\n",
       "    .dataframe thead th {\n",
       "        text-align: right;\n",
       "    }\n",
       "</style>\n",
       "<table border=\"1\" class=\"dataframe\">\n",
       "  <thead>\n",
       "    <tr style=\"text-align: right;\">\n",
       "      <th></th>\n",
       "      <th>CustomerID</th>\n",
       "      <th>Price</th>\n",
       "      <th>Qty</th>\n",
       "      <th>TotalAmount</th>\n",
       "      <th>StoreID</th>\n",
       "      <th>Latitude</th>\n",
       "      <th>Longitude</th>\n",
       "      <th>Age</th>\n",
       "      <th>Gender</th>\n",
       "      <th>Income</th>\n",
       "    </tr>\n",
       "  </thead>\n",
       "  <tbody>\n",
       "    <tr>\n",
       "      <th>count</th>\n",
       "      <td>5020.000000</td>\n",
       "      <td>5020.000000</td>\n",
       "      <td>5020.000000</td>\n",
       "      <td>5020.000000</td>\n",
       "      <td>5020.000000</td>\n",
       "      <td>5020.000000</td>\n",
       "      <td>5020.000000</td>\n",
       "      <td>5020.000000</td>\n",
       "      <td>5020.000000</td>\n",
       "      <td>5020.000000</td>\n",
       "    </tr>\n",
       "    <tr>\n",
       "      <th>mean</th>\n",
       "      <td>221.263745</td>\n",
       "      <td>9684.800797</td>\n",
       "      <td>3.644622</td>\n",
       "      <td>32279.482072</td>\n",
       "      <td>7.489841</td>\n",
       "      <td>-2.942236</td>\n",
       "      <td>109.600789</td>\n",
       "      <td>40.003586</td>\n",
       "      <td>0.452988</td>\n",
       "      <td>8.623713</td>\n",
       "    </tr>\n",
       "    <tr>\n",
       "      <th>std</th>\n",
       "      <td>129.672955</td>\n",
       "      <td>4600.708780</td>\n",
       "      <td>1.855295</td>\n",
       "      <td>19675.462455</td>\n",
       "      <td>4.028502</td>\n",
       "      <td>4.323225</td>\n",
       "      <td>8.357593</td>\n",
       "      <td>12.834719</td>\n",
       "      <td>0.497835</td>\n",
       "      <td>6.518242</td>\n",
       "    </tr>\n",
       "    <tr>\n",
       "      <th>min</th>\n",
       "      <td>1.000000</td>\n",
       "      <td>3200.000000</td>\n",
       "      <td>1.000000</td>\n",
       "      <td>7500.000000</td>\n",
       "      <td>1.000000</td>\n",
       "      <td>-7.797068</td>\n",
       "      <td>95.323753</td>\n",
       "      <td>0.000000</td>\n",
       "      <td>0.000000</td>\n",
       "      <td>0.000000</td>\n",
       "    </tr>\n",
       "    <tr>\n",
       "      <th>25%</th>\n",
       "      <td>108.000000</td>\n",
       "      <td>4200.000000</td>\n",
       "      <td>2.000000</td>\n",
       "      <td>16000.000000</td>\n",
       "      <td>4.000000</td>\n",
       "      <td>-6.914864</td>\n",
       "      <td>104.756554</td>\n",
       "      <td>30.000000</td>\n",
       "      <td>0.000000</td>\n",
       "      <td>4.220000</td>\n",
       "    </tr>\n",
       "    <tr>\n",
       "      <th>50%</th>\n",
       "      <td>221.000000</td>\n",
       "      <td>9400.000000</td>\n",
       "      <td>3.000000</td>\n",
       "      <td>28200.000000</td>\n",
       "      <td>7.000000</td>\n",
       "      <td>-5.135399</td>\n",
       "      <td>110.370529</td>\n",
       "      <td>39.000000</td>\n",
       "      <td>0.000000</td>\n",
       "      <td>7.720000</td>\n",
       "    </tr>\n",
       "    <tr>\n",
       "      <th>75%</th>\n",
       "      <td>332.000000</td>\n",
       "      <td>15000.000000</td>\n",
       "      <td>5.000000</td>\n",
       "      <td>47000.000000</td>\n",
       "      <td>11.000000</td>\n",
       "      <td>0.533505</td>\n",
       "      <td>114.590111</td>\n",
       "      <td>51.000000</td>\n",
       "      <td>1.000000</td>\n",
       "      <td>10.780000</td>\n",
       "    </tr>\n",
       "    <tr>\n",
       "      <th>max</th>\n",
       "      <td>447.000000</td>\n",
       "      <td>18000.000000</td>\n",
       "      <td>10.000000</td>\n",
       "      <td>88000.000000</td>\n",
       "      <td>14.000000</td>\n",
       "      <td>5.548290</td>\n",
       "      <td>128.190643</td>\n",
       "      <td>72.000000</td>\n",
       "      <td>1.000000</td>\n",
       "      <td>71.300000</td>\n",
       "    </tr>\n",
       "  </tbody>\n",
       "</table>\n",
       "</div>"
      ],
      "text/plain": [
       "        CustomerID         Price          Qty   TotalAmount      StoreID  \\\n",
       "count  5020.000000   5020.000000  5020.000000   5020.000000  5020.000000   \n",
       "mean    221.263745   9684.800797     3.644622  32279.482072     7.489841   \n",
       "std     129.672955   4600.708780     1.855295  19675.462455     4.028502   \n",
       "min       1.000000   3200.000000     1.000000   7500.000000     1.000000   \n",
       "25%     108.000000   4200.000000     2.000000  16000.000000     4.000000   \n",
       "50%     221.000000   9400.000000     3.000000  28200.000000     7.000000   \n",
       "75%     332.000000  15000.000000     5.000000  47000.000000    11.000000   \n",
       "max     447.000000  18000.000000    10.000000  88000.000000    14.000000   \n",
       "\n",
       "          Latitude    Longitude          Age       Gender       Income  \n",
       "count  5020.000000  5020.000000  5020.000000  5020.000000  5020.000000  \n",
       "mean     -2.942236   109.600789    40.003586     0.452988     8.623713  \n",
       "std       4.323225     8.357593    12.834719     0.497835     6.518242  \n",
       "min      -7.797068    95.323753     0.000000     0.000000     0.000000  \n",
       "25%      -6.914864   104.756554    30.000000     0.000000     4.220000  \n",
       "50%      -5.135399   110.370529    39.000000     0.000000     7.720000  \n",
       "75%       0.533505   114.590111    51.000000     1.000000    10.780000  \n",
       "max       5.548290   128.190643    72.000000     1.000000    71.300000  "
      ]
     },
     "execution_count": 764,
     "metadata": {},
     "output_type": "execute_result"
    }
   ],
   "source": [
    "df.describe()"
   ]
  },
  {
   "cell_type": "code",
   "execution_count": 765,
   "metadata": {},
   "outputs": [
    {
     "data": {
      "text/plain": [
       "TransactionID     4908\n",
       "CustomerID         447\n",
       "Date               365\n",
       "ProductID           10\n",
       "Price               10\n",
       "Qty                 10\n",
       "TotalAmount         44\n",
       "StoreID             14\n",
       "Product Name        10\n",
       "StoreName           12\n",
       "GroupStore           7\n",
       "Type                 2\n",
       "Latitude            14\n",
       "Longitude           14\n",
       "Age                 54\n",
       "Gender               2\n",
       "Marital Status       2\n",
       "Income             369\n",
       "dtype: int64"
      ]
     },
     "execution_count": 765,
     "metadata": {},
     "output_type": "execute_result"
    }
   ],
   "source": [
    "df.nunique()"
   ]
  },
  {
   "cell_type": "code",
   "execution_count": 766,
   "metadata": {},
   "outputs": [
    {
     "data": {
      "text/html": [
       "<div>\n",
       "<style scoped>\n",
       "    .dataframe tbody tr th:only-of-type {\n",
       "        vertical-align: middle;\n",
       "    }\n",
       "\n",
       "    .dataframe tbody tr th {\n",
       "        vertical-align: top;\n",
       "    }\n",
       "\n",
       "    .dataframe thead th {\n",
       "        text-align: right;\n",
       "    }\n",
       "</style>\n",
       "<table border=\"1\" class=\"dataframe\">\n",
       "  <thead>\n",
       "    <tr style=\"text-align: right;\">\n",
       "      <th></th>\n",
       "      <th>TransactionID</th>\n",
       "      <th>CustomerID</th>\n",
       "      <th>Date</th>\n",
       "      <th>ProductID</th>\n",
       "      <th>Price</th>\n",
       "      <th>Qty</th>\n",
       "      <th>TotalAmount</th>\n",
       "      <th>StoreID</th>\n",
       "      <th>Product Name</th>\n",
       "      <th>StoreName</th>\n",
       "      <th>GroupStore</th>\n",
       "      <th>Type</th>\n",
       "      <th>Latitude</th>\n",
       "      <th>Longitude</th>\n",
       "      <th>Age</th>\n",
       "      <th>Gender</th>\n",
       "      <th>Marital Status</th>\n",
       "      <th>Income</th>\n",
       "    </tr>\n",
       "  </thead>\n",
       "  <tbody>\n",
       "    <tr>\n",
       "      <th>1002</th>\n",
       "      <td>TR65931</td>\n",
       "      <td>443</td>\n",
       "      <td>19/05/2022</td>\n",
       "      <td>P1</td>\n",
       "      <td>8800</td>\n",
       "      <td>5</td>\n",
       "      <td>44000</td>\n",
       "      <td>12</td>\n",
       "      <td>Choco Bar</td>\n",
       "      <td>Prestasi Utama</td>\n",
       "      <td>Prestasi</td>\n",
       "      <td>General Trade</td>\n",
       "      <td>-2.990934</td>\n",
       "      <td>104.756554</td>\n",
       "      <td>33</td>\n",
       "      <td>1</td>\n",
       "      <td>NaN</td>\n",
       "      <td>9.28</td>\n",
       "    </tr>\n",
       "    <tr>\n",
       "      <th>1003</th>\n",
       "      <td>TR81388</td>\n",
       "      <td>443</td>\n",
       "      <td>30/10/2022</td>\n",
       "      <td>P5</td>\n",
       "      <td>4200</td>\n",
       "      <td>4</td>\n",
       "      <td>16800</td>\n",
       "      <td>10</td>\n",
       "      <td>Thai Tea</td>\n",
       "      <td>Harapan Baru</td>\n",
       "      <td>Harapan Baru</td>\n",
       "      <td>General Trade</td>\n",
       "      <td>3.597031</td>\n",
       "      <td>98.678513</td>\n",
       "      <td>33</td>\n",
       "      <td>1</td>\n",
       "      <td>NaN</td>\n",
       "      <td>9.28</td>\n",
       "    </tr>\n",
       "    <tr>\n",
       "      <th>1004</th>\n",
       "      <td>TR66239</td>\n",
       "      <td>443</td>\n",
       "      <td>15/02/2022</td>\n",
       "      <td>P5</td>\n",
       "      <td>4200</td>\n",
       "      <td>5</td>\n",
       "      <td>21000</td>\n",
       "      <td>14</td>\n",
       "      <td>Thai Tea</td>\n",
       "      <td>Priangan</td>\n",
       "      <td>Priangan</td>\n",
       "      <td>Modern Trade</td>\n",
       "      <td>-5.450000</td>\n",
       "      <td>105.266670</td>\n",
       "      <td>33</td>\n",
       "      <td>1</td>\n",
       "      <td>NaN</td>\n",
       "      <td>9.28</td>\n",
       "    </tr>\n",
       "    <tr>\n",
       "      <th>1005</th>\n",
       "      <td>TR65307</td>\n",
       "      <td>443</td>\n",
       "      <td>15/01/2022</td>\n",
       "      <td>P5</td>\n",
       "      <td>4200</td>\n",
       "      <td>4</td>\n",
       "      <td>16800</td>\n",
       "      <td>4</td>\n",
       "      <td>Thai Tea</td>\n",
       "      <td>Gita Ginara</td>\n",
       "      <td>Gita</td>\n",
       "      <td>General Trade</td>\n",
       "      <td>-6.966667</td>\n",
       "      <td>110.416664</td>\n",
       "      <td>33</td>\n",
       "      <td>1</td>\n",
       "      <td>NaN</td>\n",
       "      <td>9.28</td>\n",
       "    </tr>\n",
       "    <tr>\n",
       "      <th>1006</th>\n",
       "      <td>TR13981</td>\n",
       "      <td>443</td>\n",
       "      <td>06/11/2022</td>\n",
       "      <td>P5</td>\n",
       "      <td>4200</td>\n",
       "      <td>2</td>\n",
       "      <td>8400</td>\n",
       "      <td>4</td>\n",
       "      <td>Thai Tea</td>\n",
       "      <td>Gita Ginara</td>\n",
       "      <td>Gita</td>\n",
       "      <td>General Trade</td>\n",
       "      <td>-6.966667</td>\n",
       "      <td>110.416664</td>\n",
       "      <td>33</td>\n",
       "      <td>1</td>\n",
       "      <td>NaN</td>\n",
       "      <td>9.28</td>\n",
       "    </tr>\n",
       "  </tbody>\n",
       "</table>\n",
       "</div>"
      ],
      "text/plain": [
       "     TransactionID  CustomerID        Date ProductID  Price  Qty  TotalAmount  \\\n",
       "1002       TR65931         443  19/05/2022        P1   8800    5        44000   \n",
       "1003       TR81388         443  30/10/2022        P5   4200    4        16800   \n",
       "1004       TR66239         443  15/02/2022        P5   4200    5        21000   \n",
       "1005       TR65307         443  15/01/2022        P5   4200    4        16800   \n",
       "1006       TR13981         443  06/11/2022        P5   4200    2         8400   \n",
       "\n",
       "      StoreID Product Name       StoreName    GroupStore           Type  \\\n",
       "1002       12    Choco Bar  Prestasi Utama      Prestasi  General Trade   \n",
       "1003       10     Thai Tea    Harapan Baru  Harapan Baru  General Trade   \n",
       "1004       14     Thai Tea        Priangan      Priangan   Modern Trade   \n",
       "1005        4     Thai Tea     Gita Ginara          Gita  General Trade   \n",
       "1006        4     Thai Tea     Gita Ginara          Gita  General Trade   \n",
       "\n",
       "      Latitude   Longitude  Age  Gender Marital Status  Income  \n",
       "1002 -2.990934  104.756554   33       1            NaN    9.28  \n",
       "1003  3.597031   98.678513   33       1            NaN    9.28  \n",
       "1004 -5.450000  105.266670   33       1            NaN    9.28  \n",
       "1005 -6.966667  110.416664   33       1            NaN    9.28  \n",
       "1006 -6.966667  110.416664   33       1            NaN    9.28  "
      ]
     },
     "execution_count": 766,
     "metadata": {},
     "output_type": "execute_result"
    }
   ],
   "source": [
    "df_status_nan = df[~df['Marital Status'].isin(['Married', 'Single'])]\n",
    "df_status_nan.head()"
   ]
  },
  {
   "cell_type": "code",
   "execution_count": 767,
   "metadata": {},
   "outputs": [
    {
     "name": "stdout",
     "output_type": "stream",
     "text": [
      "Jumlah Missing Values pada kolom 'Marital Status' : 44\n"
     ]
    }
   ],
   "source": [
    "print(f\"Jumlah Missing Values pada kolom 'Marital Status' : {df_status_nan.shape[0]}\")"
   ]
  },
  {
   "cell_type": "markdown",
   "metadata": {},
   "source": [
    "### Data Distribution"
   ]
  },
  {
   "cell_type": "code",
   "execution_count": 768,
   "metadata": {},
   "outputs": [],
   "source": [
    "import seaborn as sns\n",
    "import matplotlib.pyplot as plt\n",
    "\n",
    "# Fungsi untuk plotting boxplot\n",
    "def plot_box(data, labels, title, figsize=(15, 6)):\n",
    "    sns.set_style(\"whitegrid\")\n",
    "    plt.figure(figsize=figsize) \n",
    "    ax = sns.boxplot(data=data, orient='h', showmeans=True)\n",
    "    ax.set_xlabel('Value')\n",
    "    ax.set_title(title)\n",
    "    ax.set_yticklabels(labels)"
   ]
  },
  {
   "cell_type": "code",
   "execution_count": 769,
   "metadata": {},
   "outputs": [
    {
     "data": {
      "image/png": "[encoded data removed]",
      "text/plain": [
       "<Figure size 1080x432 with 1 Axes>"
      ]
     },
     "metadata": {},
     "output_type": "display_data"
    }
   ],
   "source": [
    "df_col_num = df[['Qty', 'StoreID', 'Latitude', 'Longitude', 'Age', 'Gender', 'Income']]\n",
    "plot_box(data = df_col_num,\n",
    "         labels = df_col_num.columns.tolist(),\n",
    "         title='Boxplot of Dataset Features')"
   ]
  },
  {
   "cell_type": "code",
   "execution_count": 770,
   "metadata": {},
   "outputs": [
    {
     "data": {
      "image/png": "[encoded data removed]",
      "text/plain": [
       "<Figure size 1080x432 with 1 Axes>"
      ]
     },
     "metadata": {},
     "output_type": "display_data"
    }
   ],
   "source": [
    "df_col_num = df[['Price', 'TotalAmount']]\n",
    "plot_box(data = df_col_num,\n",
    "         labels = df_col_num.columns.tolist(),\n",
    "         title='Boxplot of Dataset Features')"
   ]
  },
  {
   "cell_type": "code",
   "execution_count": 771,
   "metadata": {},
   "outputs": [],
   "source": [
    "import matplotlib.pyplot as plt\n",
    "\n",
    "def plot_string_columns(dataframe, column_names):\n",
    "    num_cols = len(column_names)\n",
    "    fig, axes = plt.subplots(nrows=num_cols, ncols=1, figsize=(14, 8))\n",
    "\n",
    "    for i, col in enumerate(column_names):\n",
    "        value_counts = dataframe[col].value_counts()\n",
    "        labels = value_counts.index\n",
    "        counts = value_counts.values\n",
    "\n",
    "        # Menggunakan warna langsung pada fungsi color\n",
    "        bars = axes[i].bar(labels, counts, color='steelblue')\n",
    "\n",
    "        axes[i].set_title(f\"Distribusi Data pada Kolom {col}\")\n",
    "        axes[i].set_xlabel(col)\n",
    "        axes[i].set_ylabel(\"Counts\")\n",
    "\n",
    "        for bar in bars:\n",
    "            height = bar.get_height()\n",
    "            axes[i].text(bar.get_x() + bar.get_width() / 2, height, height,\n",
    "                         ha='center', va='bottom')\n",
    "\n",
    "        axes[i].tick_params(axis='both', which='major', labelsize=12)\n",
    "        axes[i].tick_params(axis='x', labelsize=12)\n",
    "        axes[i].tick_params(axis='y', labelsize=12)\n",
    "\n",
    "    plt.tight_layout()\n",
    "    plt.show()\n"
   ]
  },
  {
   "cell_type": "code",
   "execution_count": 772,
   "metadata": {},
   "outputs": [
    {
     "data": {
      "image/png": "[encoded data removed]",
      "text/plain": [
       "<Figure size 1008x576 with 5 Axes>"
      ]
     },
     "metadata": {},
     "output_type": "display_data"
    }
   ],
   "source": [
    "col = ['Product Name', 'StoreName', 'GroupStore', 'Type', 'Marital Status']\n",
    "plot_string_columns(df, col)"
   ]
  },
  {
   "cell_type": "markdown",
   "metadata": {},
   "source": [
    "### Checking Multikolinearitas"
   ]
  },
  {
   "cell_type": "code",
   "execution_count": 773,
   "metadata": {},
   "outputs": [
    {
     "data": {
      "text/html": [
       "<div>\n",
       "<style scoped>\n",
       "    .dataframe tbody tr th:only-of-type {\n",
       "        vertical-align: middle;\n",
       "    }\n",
       "\n",
       "    .dataframe tbody tr th {\n",
       "        vertical-align: top;\n",
       "    }\n",
       "\n",
       "    .dataframe thead th {\n",
       "        text-align: right;\n",
       "    }\n",
       "</style>\n",
       "<table border=\"1\" class=\"dataframe\">\n",
       "  <thead>\n",
       "    <tr style=\"text-align: right;\">\n",
       "      <th></th>\n",
       "      <th>feature</th>\n",
       "      <th>VIF</th>\n",
       "    </tr>\n",
       "  </thead>\n",
       "  <tbody>\n",
       "    <tr>\n",
       "      <th>1</th>\n",
       "      <td>Price</td>\n",
       "      <td>6.063522</td>\n",
       "    </tr>\n",
       "    <tr>\n",
       "      <th>2</th>\n",
       "      <td>Qty</td>\n",
       "      <td>7.951643</td>\n",
       "    </tr>\n",
       "    <tr>\n",
       "      <th>3</th>\n",
       "      <td>TotalAmount</td>\n",
       "      <td>8.637968</td>\n",
       "    </tr>\n",
       "    <tr>\n",
       "      <th>4</th>\n",
       "      <td>StoreID</td>\n",
       "      <td>1.304339</td>\n",
       "    </tr>\n",
       "    <tr>\n",
       "      <th>5</th>\n",
       "      <td>Latitude</td>\n",
       "      <td>1.533164</td>\n",
       "    </tr>\n",
       "    <tr>\n",
       "      <th>6</th>\n",
       "      <td>Longitude</td>\n",
       "      <td>1.202565</td>\n",
       "    </tr>\n",
       "    <tr>\n",
       "      <th>7</th>\n",
       "      <td>Age</td>\n",
       "      <td>1.311551</td>\n",
       "    </tr>\n",
       "    <tr>\n",
       "      <th>8</th>\n",
       "      <td>Gender</td>\n",
       "      <td>1.005883</td>\n",
       "    </tr>\n",
       "    <tr>\n",
       "      <th>9</th>\n",
       "      <td>Income</td>\n",
       "      <td>1.316511</td>\n",
       "    </tr>\n",
       "  </tbody>\n",
       "</table>\n",
       "</div>"
      ],
      "text/plain": [
       "       feature       VIF\n",
       "1        Price  6.063522\n",
       "2          Qty  7.951643\n",
       "3  TotalAmount  8.637968\n",
       "4      StoreID  1.304339\n",
       "5     Latitude  1.533164\n",
       "6    Longitude  1.202565\n",
       "7          Age  1.311551\n",
       "8       Gender  1.005883\n",
       "9       Income  1.316511"
      ]
     },
     "metadata": {},
     "output_type": "display_data"
    }
   ],
   "source": [
    "# MULTIKOLINEARITAS\n",
    "\n",
    "from statsmodels.stats.outliers_influence import variance_inflation_factor\n",
    "from statsmodels.tools import add_constant\n",
    "\n",
    "# Tambahkan sebuah konstanta pada dataframe (prasyarat perhitungan)\n",
    "selected_columns = ['Price', 'Qty', 'TotalAmount', 'StoreID', 'Latitude', 'Longitude', 'Age', 'Gender', 'Income']\n",
    "df_selected = df[selected_columns]\n",
    "\n",
    "features_selected = add_constant(df_selected)\n",
    "\n",
    "# VIF dataframe\n",
    "vif_data = pd.DataFrame()\n",
    "\n",
    "# Hitung VIF tiap fitur\n",
    "vif_data[\"feature\"] = features_selected.columns\n",
    "vif_data[\"VIF\"] = [variance_inflation_factor(features_selected.values, i) for i in range(len(features_selected.columns))]\n",
    "vif_data = vif_data[vif_data['feature'] != 'const']\n",
    "\n",
    "display(vif_data)"
   ]
  },
  {
   "cell_type": "markdown",
   "metadata": {},
   "source": [
    "## Final Task - Clustering"
   ]
  },
  {
   "cell_type": "markdown",
   "metadata": {},
   "source": [
    "### Exploratory Data Analysis (EDA)"
   ]
  },
  {
   "cell_type": "code",
   "execution_count": 774,
   "metadata": {},
   "outputs": [
    {
     "data": {
      "text/html": [
       "<div>\n",
       "<style scoped>\n",
       "    .dataframe tbody tr th:only-of-type {\n",
       "        vertical-align: middle;\n",
       "    }\n",
       "\n",
       "    .dataframe tbody tr th {\n",
       "        vertical-align: top;\n",
       "    }\n",
       "\n",
       "    .dataframe thead th {\n",
       "        text-align: right;\n",
       "    }\n",
       "</style>\n",
       "<table border=\"1\" class=\"dataframe\">\n",
       "  <thead>\n",
       "    <tr style=\"text-align: right;\">\n",
       "      <th></th>\n",
       "      <th>TransactionID</th>\n",
       "      <th>CustomerID</th>\n",
       "      <th>Date</th>\n",
       "      <th>ProductID</th>\n",
       "      <th>Price</th>\n",
       "      <th>Qty</th>\n",
       "      <th>TotalAmount</th>\n",
       "      <th>StoreID</th>\n",
       "      <th>Product Name</th>\n",
       "      <th>StoreName</th>\n",
       "      <th>GroupStore</th>\n",
       "      <th>Type</th>\n",
       "      <th>Latitude</th>\n",
       "      <th>Longitude</th>\n",
       "      <th>Age</th>\n",
       "      <th>Gender</th>\n",
       "      <th>Marital Status</th>\n",
       "      <th>Income</th>\n",
       "    </tr>\n",
       "  </thead>\n",
       "  <tbody>\n",
       "    <tr>\n",
       "      <th>0</th>\n",
       "      <td>TR11369</td>\n",
       "      <td>328</td>\n",
       "      <td>01/01/2022</td>\n",
       "      <td>P3</td>\n",
       "      <td>7500</td>\n",
       "      <td>4</td>\n",
       "      <td>30000</td>\n",
       "      <td>12</td>\n",
       "      <td>Crackers</td>\n",
       "      <td>Prestasi Utama</td>\n",
       "      <td>Prestasi</td>\n",
       "      <td>General Trade</td>\n",
       "      <td>-2.990934</td>\n",
       "      <td>104.756554</td>\n",
       "      <td>36</td>\n",
       "      <td>0</td>\n",
       "      <td>Married</td>\n",
       "      <td>10.53</td>\n",
       "    </tr>\n",
       "    <tr>\n",
       "      <th>1</th>\n",
       "      <td>TR56601</td>\n",
       "      <td>328</td>\n",
       "      <td>24/12/2022</td>\n",
       "      <td>P9</td>\n",
       "      <td>10000</td>\n",
       "      <td>1</td>\n",
       "      <td>10000</td>\n",
       "      <td>9</td>\n",
       "      <td>Yoghurt</td>\n",
       "      <td>Lingga</td>\n",
       "      <td>Lingga</td>\n",
       "      <td>Modern Trade</td>\n",
       "      <td>-3.654703</td>\n",
       "      <td>128.190643</td>\n",
       "      <td>36</td>\n",
       "      <td>0</td>\n",
       "      <td>Married</td>\n",
       "      <td>10.53</td>\n",
       "    </tr>\n",
       "    <tr>\n",
       "      <th>2</th>\n",
       "      <td>TR89012</td>\n",
       "      <td>328</td>\n",
       "      <td>25/03/2022</td>\n",
       "      <td>P5</td>\n",
       "      <td>4200</td>\n",
       "      <td>5</td>\n",
       "      <td>21000</td>\n",
       "      <td>6</td>\n",
       "      <td>Thai Tea</td>\n",
       "      <td>Lingga</td>\n",
       "      <td>Lingga</td>\n",
       "      <td>Modern Trade</td>\n",
       "      <td>-5.135399</td>\n",
       "      <td>119.423790</td>\n",
       "      <td>36</td>\n",
       "      <td>0</td>\n",
       "      <td>Married</td>\n",
       "      <td>10.53</td>\n",
       "    </tr>\n",
       "    <tr>\n",
       "      <th>3</th>\n",
       "      <td>TR67395</td>\n",
       "      <td>328</td>\n",
       "      <td>22/01/2022</td>\n",
       "      <td>P8</td>\n",
       "      <td>16000</td>\n",
       "      <td>3</td>\n",
       "      <td>48000</td>\n",
       "      <td>11</td>\n",
       "      <td>Oat</td>\n",
       "      <td>Sinar Harapan</td>\n",
       "      <td>Prestasi</td>\n",
       "      <td>General Trade</td>\n",
       "      <td>0.533505</td>\n",
       "      <td>101.447403</td>\n",
       "      <td>36</td>\n",
       "      <td>0</td>\n",
       "      <td>Married</td>\n",
       "      <td>10.53</td>\n",
       "    </tr>\n",
       "    <tr>\n",
       "      <th>4</th>\n",
       "      <td>TR45738</td>\n",
       "      <td>328</td>\n",
       "      <td>29/12/2022</td>\n",
       "      <td>P2</td>\n",
       "      <td>3200</td>\n",
       "      <td>3</td>\n",
       "      <td>9600</td>\n",
       "      <td>11</td>\n",
       "      <td>Ginger Candy</td>\n",
       "      <td>Sinar Harapan</td>\n",
       "      <td>Prestasi</td>\n",
       "      <td>General Trade</td>\n",
       "      <td>0.533505</td>\n",
       "      <td>101.447403</td>\n",
       "      <td>36</td>\n",
       "      <td>0</td>\n",
       "      <td>Married</td>\n",
       "      <td>10.53</td>\n",
       "    </tr>\n",
       "  </tbody>\n",
       "</table>\n",
       "</div>"
      ],
      "text/plain": [
       "  TransactionID  CustomerID        Date ProductID  Price  Qty  TotalAmount  \\\n",
       "0       TR11369         328  01/01/2022        P3   7500    4        30000   \n",
       "1       TR56601         328  24/12/2022        P9  10000    1        10000   \n",
       "2       TR89012         328  25/03/2022        P5   4200    5        21000   \n",
       "3       TR67395         328  22/01/2022        P8  16000    3        48000   \n",
       "4       TR45738         328  29/12/2022        P2   3200    3         9600   \n",
       "\n",
       "   StoreID   Product Name       StoreName GroupStore           Type  Latitude  \\\n",
       "0       12       Crackers  Prestasi Utama   Prestasi  General Trade -2.990934   \n",
       "1        9        Yoghurt          Lingga     Lingga   Modern Trade -3.654703   \n",
       "2        6       Thai Tea          Lingga     Lingga   Modern Trade -5.135399   \n",
       "3       11            Oat   Sinar Harapan   Prestasi  General Trade  0.533505   \n",
       "4       11  Ginger Candy    Sinar Harapan   Prestasi  General Trade  0.533505   \n",
       "\n",
       "    Longitude  Age  Gender Marital Status  Income  \n",
       "0  104.756554   36       0        Married   10.53  \n",
       "1  128.190643   36       0        Married   10.53  \n",
       "2  119.423790   36       0        Married   10.53  \n",
       "3  101.447403   36       0        Married   10.53  \n",
       "4  101.447403   36       0        Married   10.53  "
      ]
     },
     "execution_count": 774,
     "metadata": {},
     "output_type": "execute_result"
    }
   ],
   "source": [
    "df.head()"
   ]
  },
  {
   "cell_type": "code",
   "execution_count": 775,
   "metadata": {},
   "outputs": [],
   "source": [
    "df['Date'] = pd.to_datetime(df['Date'])\n",
    "df['CustomerID'] = df['CustomerID'].astype(str)"
   ]
  },
  {
   "cell_type": "code",
   "execution_count": 776,
   "metadata": {},
   "outputs": [
    {
     "name": "stdout",
     "output_type": "stream",
     "text": [
      "<class 'pandas.core.frame.DataFrame'>\n",
      "Int64Index: 5020 entries, 0 to 5019\n",
      "Data columns (total 18 columns):\n",
      " #   Column          Non-Null Count  Dtype         \n",
      "---  ------          --------------  -----         \n",
      " 0   TransactionID   5020 non-null   object        \n",
      " 1   CustomerID      5020 non-null   object        \n",
      " 2   Date            5020 non-null   datetime64[ns]\n",
      " 3   ProductID       5020 non-null   object        \n",
      " 4   Price           5020 non-null   int64         \n",
      " 5   Qty             5020 non-null   int64         \n",
      " 6   TotalAmount     5020 non-null   int64         \n",
      " 7   StoreID         5020 non-null   int64         \n",
      " 8   Product Name    5020 non-null   object        \n",
      " 9   StoreName       5020 non-null   object        \n",
      " 10  GroupStore      5020 non-null   object        \n",
      " 11  Type            5020 non-null   object        \n",
      " 12  Latitude        5020 non-null   float64       \n",
      " 13  Longitude       5020 non-null   float64       \n",
      " 14  Age             5020 non-null   int64         \n",
      " 15  Gender          5020 non-null   int64         \n",
      " 16  Marital Status  4976 non-null   object        \n",
      " 17  Income          5020 non-null   float64       \n",
      "dtypes: datetime64[ns](1), float64(3), int64(6), object(8)\n",
      "memory usage: 745.2+ KB\n"
     ]
    }
   ],
   "source": [
    "df.info()"
   ]
  },
  {
   "cell_type": "code",
   "execution_count": 777,
   "metadata": {},
   "outputs": [
    {
     "data": {
      "text/html": [
       "<div>\n",
       "<style scoped>\n",
       "    .dataframe tbody tr th:only-of-type {\n",
       "        vertical-align: middle;\n",
       "    }\n",
       "\n",
       "    .dataframe tbody tr th {\n",
       "        vertical-align: top;\n",
       "    }\n",
       "\n",
       "    .dataframe thead th {\n",
       "        text-align: right;\n",
       "    }\n",
       "</style>\n",
       "<table border=\"1\" class=\"dataframe\">\n",
       "  <thead>\n",
       "    <tr style=\"text-align: right;\">\n",
       "      <th></th>\n",
       "      <th>TransactionCount</th>\n",
       "      <th>TotalQty</th>\n",
       "      <th>TotalAmountSum</th>\n",
       "    </tr>\n",
       "    <tr>\n",
       "      <th>CustomerID</th>\n",
       "      <th></th>\n",
       "      <th></th>\n",
       "      <th></th>\n",
       "    </tr>\n",
       "  </thead>\n",
       "  <tbody>\n",
       "    <tr>\n",
       "      <th>1</th>\n",
       "      <td>17</td>\n",
       "      <td>60</td>\n",
       "      <td>623300</td>\n",
       "    </tr>\n",
       "    <tr>\n",
       "      <th>10</th>\n",
       "      <td>14</td>\n",
       "      <td>50</td>\n",
       "      <td>478000</td>\n",
       "    </tr>\n",
       "    <tr>\n",
       "      <th>100</th>\n",
       "      <td>8</td>\n",
       "      <td>35</td>\n",
       "      <td>272400</td>\n",
       "    </tr>\n",
       "    <tr>\n",
       "      <th>101</th>\n",
       "      <td>14</td>\n",
       "      <td>44</td>\n",
       "      <td>439600</td>\n",
       "    </tr>\n",
       "    <tr>\n",
       "      <th>102</th>\n",
       "      <td>15</td>\n",
       "      <td>57</td>\n",
       "      <td>423300</td>\n",
       "    </tr>\n",
       "  </tbody>\n",
       "</table>\n",
       "</div>"
      ],
      "text/plain": [
       "            TransactionCount  TotalQty  TotalAmountSum\n",
       "CustomerID                                            \n",
       "1                         17        60          623300\n",
       "10                        14        50          478000\n",
       "100                        8        35          272400\n",
       "101                       14        44          439600\n",
       "102                       15        57          423300"
      ]
     },
     "execution_count": 777,
     "metadata": {},
     "output_type": "execute_result"
    }
   ],
   "source": [
    "df_grouped = df.groupby('CustomerID').agg({\n",
    "    'TransactionID': 'count',\n",
    "    'Qty': 'sum',\n",
    "    'TotalAmount': 'sum'\n",
    "})\n",
    "\n",
    "# Mengganti nama kolom hasil agregasi\n",
    "df_grouped = df_grouped.rename(columns={\n",
    "    'TransactionID': 'TransactionCount',\n",
    "    'Qty': 'TotalQty',\n",
    "    'TotalAmount': 'TotalAmountSum'\n",
    "})\n",
    "\n",
    "df_grouped.head()"
   ]
  },
  {
   "cell_type": "code",
   "execution_count": 778,
   "metadata": {},
   "outputs": [
    {
     "data": {
      "text/html": [
       "<div>\n",
       "<style scoped>\n",
       "    .dataframe tbody tr th:only-of-type {\n",
       "        vertical-align: middle;\n",
       "    }\n",
       "\n",
       "    .dataframe tbody tr th {\n",
       "        vertical-align: top;\n",
       "    }\n",
       "\n",
       "    .dataframe thead th {\n",
       "        text-align: right;\n",
       "    }\n",
       "</style>\n",
       "<table border=\"1\" class=\"dataframe\">\n",
       "  <thead>\n",
       "    <tr style=\"text-align: right;\">\n",
       "      <th></th>\n",
       "      <th>TransactionCount</th>\n",
       "      <th>TotalQty</th>\n",
       "      <th>TotalAmountSum</th>\n",
       "    </tr>\n",
       "  </thead>\n",
       "  <tbody>\n",
       "    <tr>\n",
       "      <th>count</th>\n",
       "      <td>447.000000</td>\n",
       "      <td>447.000000</td>\n",
       "      <td>447.000000</td>\n",
       "    </tr>\n",
       "    <tr>\n",
       "      <th>mean</th>\n",
       "      <td>11.230425</td>\n",
       "      <td>40.930649</td>\n",
       "      <td>362512.304251</td>\n",
       "    </tr>\n",
       "    <tr>\n",
       "      <th>std</th>\n",
       "      <td>3.245302</td>\n",
       "      <td>12.756679</td>\n",
       "      <td>124634.279184</td>\n",
       "    </tr>\n",
       "    <tr>\n",
       "      <th>min</th>\n",
       "      <td>3.000000</td>\n",
       "      <td>10.000000</td>\n",
       "      <td>92100.000000</td>\n",
       "    </tr>\n",
       "    <tr>\n",
       "      <th>25%</th>\n",
       "      <td>9.000000</td>\n",
       "      <td>32.000000</td>\n",
       "      <td>271750.000000</td>\n",
       "    </tr>\n",
       "    <tr>\n",
       "      <th>50%</th>\n",
       "      <td>11.000000</td>\n",
       "      <td>40.000000</td>\n",
       "      <td>354200.000000</td>\n",
       "    </tr>\n",
       "    <tr>\n",
       "      <th>75%</th>\n",
       "      <td>14.000000</td>\n",
       "      <td>50.000000</td>\n",
       "      <td>441200.000000</td>\n",
       "    </tr>\n",
       "    <tr>\n",
       "      <th>max</th>\n",
       "      <td>21.000000</td>\n",
       "      <td>79.000000</td>\n",
       "      <td>846700.000000</td>\n",
       "    </tr>\n",
       "  </tbody>\n",
       "</table>\n",
       "</div>"
      ],
      "text/plain": [
       "       TransactionCount    TotalQty  TotalAmountSum\n",
       "count        447.000000  447.000000      447.000000\n",
       "mean          11.230425   40.930649   362512.304251\n",
       "std            3.245302   12.756679   124634.279184\n",
       "min            3.000000   10.000000    92100.000000\n",
       "25%            9.000000   32.000000   271750.000000\n",
       "50%           11.000000   40.000000   354200.000000\n",
       "75%           14.000000   50.000000   441200.000000\n",
       "max           21.000000   79.000000   846700.000000"
      ]
     },
     "execution_count": 778,
     "metadata": {},
     "output_type": "execute_result"
    }
   ],
   "source": [
    "df_grouped.describe()"
   ]
  },
  {
   "cell_type": "code",
   "execution_count": 779,
   "metadata": {},
   "outputs": [],
   "source": [
    "import seaborn as sns\n",
    "import matplotlib.pyplot as plt\n",
    "\n",
    "# Fungsi untuk plotting boxplot\n",
    "def plot_box(data, labels, title, figsize=(15, 6)):\n",
    "    sns.set_style(\"whitegrid\")\n",
    "    plt.figure(figsize=figsize) \n",
    "    ax = sns.boxplot(data=data, orient='h', showmeans=True)\n",
    "    ax.set_xlabel('Value')\n",
    "    ax.set_title(title)\n",
    "    ax.set_yticklabels(labels)"
   ]
  },
  {
   "cell_type": "code",
   "execution_count": 782,
   "metadata": {},
   "outputs": [
    {
     "data": {
      "image/png": "[encoded data removed]",
      "text/plain": [
       "<Figure size 1080x432 with 1 Axes>"
      ]
     },
     "metadata": {},
     "output_type": "display_data"
    }
   ],
   "source": [
    "plot_box(data = df_grouped.iloc[:,:2],\n",
    "         labels = df_grouped.columns.tolist()[:2],\n",
    "         title='Boxplot of Dataset Features')"
   ]
  },
  {
   "cell_type": "code",
   "execution_count": 783,
   "metadata": {},
   "outputs": [
    {
     "data": {
      "image/png": "[encoded data removed]",
      "text/plain": [
       "<Figure size 1080x432 with 1 Axes>"
      ]
     },
     "metadata": {},
     "output_type": "display_data"
    }
   ],
   "source": [
    "plot_box(data = df_grouped.iloc[:,2:],\n",
    "         labels = df_grouped.columns.tolist()[2:],\n",
    "         title='Boxplot of Dataset Features')"
   ]
  },
  {
   "cell_type": "code",
   "execution_count": 784,
   "metadata": {},
   "outputs": [
    {
     "data": {
      "application/vnd.plotly.v1+json": {
       "config": {
        "plotlyServerURL": "https://plot.ly"
       },
       "data": [
        {
         "dimensions": [
          {
           "axis": {
            "matches": true
           },
           "label": "TransactionCount",
           "values": [
            17,
            14,
            8,
            14,
            15,
            11,
            7,
            14,
            16,
            11,
            15,
            13,
            7,
            7,
            8,
            14,
            8,
            11,
            14,
            11,
            9,
            14,
            11,
            16,
            14,
            14,
            13,
            11,
            12,
            6,
            7,
            14,
            9,
            9,
            19,
            10,
            12,
            11,
            17,
            11,
            14,
            10,
            14,
            12,
            9,
            12,
            11,
            13,
            11,
            7,
            7,
            7,
            9,
            10,
            6,
            12,
            12,
            14,
            9,
            11,
            8,
            11,
            13,
            21,
            15,
            17,
            10,
            13,
            15,
            10,
            12,
            12,
            13,
            12,
            13,
            17,
            11,
            12,
            11,
            7,
            17,
            17,
            9,
            11,
            10,
            10,
            11,
            13,
            7,
            14,
            4,
            8,
            11,
            12,
            14,
            5,
            13,
            15,
            10,
            18,
            15,
            11,
            9,
            8,
            9,
            6,
            11,
            10,
            8,
            14,
            11,
            13,
            15,
            9,
            12,
            9,
            13,
            12,
            7,
            12,
            10,
            6,
            9,
            10,
            13,
            10,
            10,
            12,
            10,
            13,
            9,
            14,
            14,
            16,
            12,
            9,
            11,
            13,
            10,
            9,
            10,
            8,
            8,
            10,
            15,
            15,
            9,
            15,
            13,
            17,
            17,
            15,
            9,
            13,
            8,
            9,
            13,
            15,
            10,
            6,
            13,
            10,
            19,
            16,
            14,
            10,
            9,
            3,
            9,
            9,
            10,
            8,
            10,
            5,
            12,
            11,
            9,
            4,
            11,
            15,
            7,
            6,
            16,
            12,
            8,
            10,
            12,
            11,
            13,
            10,
            16,
            11,
            17,
            14,
            12,
            10,
            13,
            13,
            13,
            10,
            10,
            15,
            16,
            15,
            17,
            10,
            13,
            10,
            9,
            10,
            11,
            15,
            6,
            6,
            5,
            14,
            10,
            11,
            11,
            14,
            13,
            14,
            15,
            10,
            13,
            16,
            8,
            16,
            12,
            10,
            16,
            10,
            9,
            8,
            12,
            15,
            13,
            11,
            7,
            9,
            11,
            9,
            9,
            8,
            14,
            10,
            7,
            14,
            13,
            8,
            8,
            10,
            15,
            13,
            9,
            17,
            6,
            9,
            10,
            10,
            11,
            8,
            11,
            14,
            5,
            10,
            9,
            14,
            12,
            11,
            16,
            9,
            8,
            10,
            9,
            16,
            11,
            6,
            10,
            13,
            9,
            12,
            11,
            9,
            11,
            16,
            12,
            12,
            10,
            10,
            13,
            10,
            14,
            12,
            7,
            20,
            12,
            5,
            7,
            11,
            14,
            16,
            4,
            10,
            8,
            16,
            11,
            12,
            12,
            12,
            12,
            9,
            13,
            7,
            9,
            7,
            16,
            4,
            11,
            7,
            9,
            8,
            13,
            8,
            11,
            20,
            15,
            11,
            12,
            9,
            7,
            9,
            12,
            10,
            10,
            9,
            15,
            6,
            12,
            16,
            7,
            9,
            9,
            11,
            13,
            6,
            8,
            8,
            8,
            11,
            9,
            13,
            14,
            16,
            11,
            6,
            13,
            7,
            10,
            15,
            16,
            11,
            7,
            9,
            14,
            10,
            10,
            13,
            14,
            13,
            5,
            11,
            13,
            12,
            10,
            7,
            14,
            7,
            19,
            12,
            5,
            13,
            16,
            18,
            18,
            11,
            13,
            17,
            15,
            15,
            10,
            10,
            7,
            7,
            11,
            7,
            15,
            13,
            11,
            7,
            11,
            11,
            6,
            10,
            11,
            8,
            14,
            17,
            10,
            9,
            10,
            14,
            6,
            10,
            17,
            10,
            8,
            16,
            17,
            6,
            11,
            14,
            13,
            8,
            6,
            14,
            7,
            8,
            10,
            11,
            16,
            14,
            13,
            11,
            17,
            19,
            10,
            10,
            7,
            15,
            14,
            6,
            12,
            12,
            14,
            9,
            9
           ]
          },
          {
           "axis": {
            "matches": true
           },
           "label": "TotalQty",
           "values": [
            60,
            50,
            35,
            44,
            57,
            31,
            17,
            53,
            64,
            46,
            54,
            36,
            28,
            25,
            25,
            54,
            30,
            52,
            58,
            39,
            31,
            46,
            43,
            61,
            50,
            52,
            35,
            44,
            53,
            17,
            25,
            46,
            30,
            41,
            68,
            36,
            53,
            44,
            56,
            36,
            43,
            27,
            62,
            44,
            38,
            35,
            38,
            39,
            42,
            31,
            27,
            26,
            26,
            42,
            24,
            38,
            44,
            54,
            38,
            50,
            17,
            42,
            42,
            61,
            65,
            59,
            29,
            50,
            46,
            30,
            34,
            34,
            40,
            51,
            66,
            65,
            50,
            43,
            41,
            22,
            68,
            50,
            33,
            48,
            30,
            36,
            47,
            52,
            26,
            44,
            19,
            41,
            30,
            40,
            64,
            24,
            51,
            44,
            37,
            73,
            63,
            36,
            37,
            21,
            37,
            20,
            45,
            33,
            31,
            51,
            42,
            57,
            53,
            22,
            45,
            40,
            43,
            40,
            31,
            44,
            42,
            24,
            39,
            35,
            58,
            40,
            31,
            44,
            41,
            46,
            37,
            57,
            54,
            58,
            43,
            33,
            37,
            58,
            35,
            38,
            29,
            37,
            19,
            33,
            48,
            55,
            35,
            49,
            35,
            65,
            51,
            68,
            33,
            45,
            36,
            38,
            42,
            55,
            45,
            20,
            37,
            43,
            72,
            48,
            45,
            33,
            39,
            10,
            34,
            37,
            35,
            30,
            37,
            16,
            45,
            37,
            34,
            22,
            34,
            54,
            28,
            15,
            60,
            46,
            17,
            40,
            47,
            35,
            50,
            32,
            49,
            42,
            58,
            54,
            46,
            37,
            54,
            51,
            48,
            40,
            34,
            44,
            59,
            52,
            61,
            47,
            42,
            27,
            31,
            35,
            41,
            63,
            22,
            26,
            16,
            42,
            35,
            54,
            37,
            39,
            51,
            52,
            56,
            40,
            27,
            53,
            30,
            68,
            33,
            36,
            51,
            40,
            36,
            35,
            36,
            58,
            57,
            42,
            29,
            22,
            39,
            28,
            42,
            26,
            57,
            35,
            26,
            57,
            38,
            34,
            30,
            31,
            47,
            37,
            35,
            63,
            25,
            42,
            29,
            37,
            30,
            29,
            37,
            43,
            18,
            42,
            45,
            51,
            42,
            42,
            54,
            30,
            27,
            38,
            26,
            50,
            58,
            26,
            35,
            44,
            28,
            46,
            42,
            32,
            33,
            57,
            53,
            36,
            31,
            32,
            33,
            37,
            45,
            53,
            39,
            75,
            41,
            18,
            22,
            51,
            72,
            55,
            13,
            33,
            25,
            53,
            41,
            54,
            45,
            45,
            49,
            33,
            44,
            22,
            25,
            24,
            65,
            19,
            42,
            20,
            30,
            34,
            51,
            22,
            40,
            71,
            53,
            26,
            41,
            28,
            30,
            38,
            37,
            46,
            30,
            36,
            52,
            24,
            46,
            53,
            26,
            29,
            26,
            48,
            44,
            24,
            33,
            22,
            28,
            42,
            39,
            41,
            62,
            71,
            31,
            29,
            38,
            30,
            28,
            66,
            62,
            51,
            25,
            26,
            55,
            41,
            43,
            57,
            53,
            40,
            18,
            32,
            57,
            52,
            41,
            28,
            47,
            26,
            71,
            40,
            13,
            37,
            59,
            62,
            68,
            42,
            42,
            54,
            49,
            57,
            45,
            35,
            27,
            20,
            45,
            37,
            43,
            40,
            42,
            20,
            40,
            41,
            20,
            44,
            37,
            39,
            52,
            56,
            40,
            33,
            41,
            57,
            28,
            44,
            57,
            38,
            29,
            65,
            61,
            21,
            37,
            51,
            40,
            33,
            17,
            47,
            31,
            32,
            32,
            49,
            62,
            49,
            41,
            41,
            62,
            79,
            44,
            38,
            32,
            53,
            43,
            29,
            43,
            44,
            36,
            34,
            33
           ]
          },
          {
           "axis": {
            "matches": true
           },
           "label": "TotalAmountSum",
           "values": [
            623300,
            478000,
            272400,
            439600,
            423300,
            318200,
            156200,
            513400,
            555300,
            516600,
            398400,
            278600,
            247300,
            223400,
            228000,
            530300,
            206400,
            484000,
            497000,
            383800,
            280700,
            463000,
            380400,
            582500,
            502600,
            444000,
            278100,
            304100,
            440200,
            137000,
            183400,
            512400,
            294600,
            387400,
            669000,
            314400,
            462800,
            438300,
            524400,
            384600,
            388400,
            283500,
            443700,
            410300,
            290000,
            398500,
            311300,
            364000,
            364000,
            259700,
            246200,
            174000,
            206500,
            393700,
            193800,
            406300,
            406800,
            497600,
            351100,
            444200,
            203400,
            325500,
            425000,
            583100,
            588100,
            486900,
            311400,
            375600,
            406200,
            340600,
            317900,
            334000,
            296700,
            318600,
            644200,
            600400,
            370400,
            356000,
            356600,
            235300,
            576500,
            540900,
            349600,
            437600,
            304800,
            258200,
            367200,
            389300,
            170200,
            455900,
            188200,
            309600,
            276800,
            302200,
            676200,
            181900,
            354000,
            472600,
            301800,
            565600,
            574600,
            381900,
            365600,
            195900,
            257600,
            166200,
            387500,
            263400,
            263100,
            381400,
            476200,
            392300,
            528500,
            183200,
            341400,
            311000,
            414700,
            382400,
            250000,
            414000,
            278800,
            121400,
            343800,
            299900,
            570600,
            317800,
            263700,
            391400,
            334300,
            362300,
            275600,
            486100,
            405200,
            514100,
            404500,
            271100,
            361100,
            491700,
            396600,
            303400,
            310600,
            381600,
            154600,
            329000,
            400700,
            506500,
            256200,
            453500,
            335600,
            634700,
            502900,
            475700,
            363800,
            455200,
            264600,
            411000,
            377000,
            524300,
            299200,
            156100,
            439400,
            341400,
            578400,
            450600,
            433800,
            294600,
            282800,
            92100,
            297800,
            306400,
            278000,
            316500,
            316000,
            141700,
            412800,
            370200,
            294200,
            107600,
            233600,
            588800,
            220200,
            165200,
            622600,
            489200,
            232800,
            292500,
            378000,
            424400,
            362300,
            328400,
            527100,
            297200,
            491000,
            392000,
            257600,
            294600,
            488000,
            574000,
            406900,
            376400,
            328600,
            405100,
            499700,
            472400,
            499400,
            385200,
            277000,
            238200,
            322600,
            340800,
            392800,
            448900,
            175400,
            203200,
            183000,
            294400,
            258800,
            423600,
            277000,
            292400,
            395000,
            584200,
            446200,
            319800,
            215100,
            615300,
            304100,
            548100,
            395600,
            275600,
            475200,
            372900,
            340000,
            259300,
            355800,
            455200,
            472000,
            302900,
            233100,
            273200,
            395500,
            231400,
            366600,
            232900,
            452600,
            360400,
            242200,
            529200,
            341000,
            214800,
            249300,
            243200,
            550200,
            355700,
            252600,
            526800,
            196900,
            349400,
            304200,
            258000,
            232500,
            189600,
            315000,
            407300,
            144300,
            305200,
            416200,
            493200,
            425200,
            405000,
            434900,
            276400,
            172200,
            308800,
            256800,
            436800,
            496700,
            175000,
            247800,
            346500,
            264600,
            340800,
            322700,
            286800,
            329200,
            526900,
            487800,
            413100,
            236700,
            312400,
            352300,
            349100,
            383600,
            369000,
            382600,
            846700,
            471000,
            144600,
            267400,
            471100,
            625100,
            564800,
            164400,
            315200,
            262800,
            470200,
            292400,
            415600,
            301100,
            379700,
            363000,
            296800,
            356700,
            233800,
            243900,
            237000,
            662200,
            142400,
            311100,
            161000,
            191300,
            201400,
            422400,
            205800,
            375400,
            751400,
            449600,
            317800,
            274100,
            263700,
            237000,
            296700,
            269300,
            302500,
            298200,
            241000,
            402400,
            188800,
            331400,
            443200,
            212200,
            237100,
            243400,
            452000,
            384100,
            205800,
            254000,
            251800,
            229000,
            417100,
            440200,
            352400,
            511200,
            615800,
            215200,
            228900,
            420400,
            211000,
            292300,
            534500,
            614600,
            463800,
            223800,
            171600,
            574800,
            292500,
            354200,
            539200,
            501600,
            359900,
            199400,
            351200,
            509900,
            425500,
            348400,
            222800,
            457200,
            113800,
            543800,
            395200,
            115200,
            269400,
            485100,
            577700,
            587200,
            423300,
            439300,
            553500,
            495200,
            551300,
            342200,
            328800,
            268600,
            210800,
            439600,
            321400,
            336000,
            393500,
            310400,
            218800,
            405300,
            384500,
            141600,
            459100,
            408600,
            245400,
            442200,
            563300,
            267900,
            216800,
            423000,
            442600,
            246500,
            352400,
            498800,
            323600,
            268600,
            667000,
            503700,
            181600,
            356000,
            462700,
            403600,
            245200,
            157800,
            542100,
            319200,
            329300,
            386300,
            383800,
            470800,
            421200,
            319600,
            394400,
            627400,
            760600,
            349200,
            367800,
            282800,
            365000,
            390700,
            275800,
            410200,
            355100,
            329500,
            362500,
            316400
           ]
          }
         ],
         "hovertemplate": "%{xaxis.title.text}=%{x}<br>%{yaxis.title.text}=%{y}<extra></extra>",
         "legendgroup": "",
         "marker": {
          "color": "#636efa",
          "symbol": "circle"
         },
         "name": "",
         "showlegend": false,
         "type": "splom"
        }
       ],
       "layout": {
        "dragmode": "select",
        "height": 800,
        "legend": {
         "tracegroupgap": 0
        },
        "margin": {
         "t": 60
        },
        "template": {
         "data": {
          "bar": [
           {
            "error_x": {
             "color": "#2a3f5f"
            },
            "error_y": {
             "color": "#2a3f5f"
            },
            "marker": {
             "line": {
              "color": "#E5ECF6",
              "width": 0.5
             },
             "pattern": {
              "fillmode": "overlay",
              "size": 10,
              "solidity": 0.2
             }
            },
            "type": "bar"
           }
          ],
          "barpolar": [
           {
            "marker": {
             "line": {
              "color": "#E5ECF6",
              "width": 0.5
             },
             "pattern": {
              "fillmode": "overlay",
              "size": 10,
              "solidity": 0.2
             }
            },
            "type": "barpolar"
           }
          ],
          "carpet": [
           {
            "aaxis": {
             "endlinecolor": "#2a3f5f",
             "gridcolor": "white",
             "linecolor": "white",
             "minorgridcolor": "white",
             "startlinecolor": "#2a3f5f"
            },
            "baxis": {
             "endlinecolor": "#2a3f5f",
             "gridcolor": "white",
             "linecolor": "white",
             "minorgridcolor": "white",
             "startlinecolor": "#2a3f5f"
            },
            "type": "carpet"
           }
          ],
          "choropleth": [
           {
            "colorbar": {
             "outlinewidth": 0,
             "ticks": ""
            },
            "type": "choropleth"
           }
          ],
          "contour": [
           {
            "colorbar": {
             "outlinewidth": 0,
             "ticks": ""
            },
            "colorscale": [
             [
              0,
              "#0d0887"
             ],
             [
              0.1111111111111111,
              "#46039f"
             ],
             [
              0.2222222222222222,
              "#7201a8"
             ],
             [
              0.3333333333333333,
              "#9c179e"
             ],
             [
              0.4444444444444444,
              "#bd3786"
             ],
             [
              0.5555555555555556,
              "#d8576b"
             ],
             [
              0.6666666666666666,
              "#ed7953"
             ],
             [
              0.7777777777777778,
              "#fb9f3a"
             ],
             [
              0.8888888888888888,
              "#fdca26"
             ],
             [
              1,
              "#f0f921"
             ]
            ],
            "type": "contour"
           }
          ],
          "contourcarpet": [
           {
            "colorbar": {
             "outlinewidth": 0,
             "ticks": ""
            },
            "type": "contourcarpet"
           }
          ],
          "heatmap": [
           {
            "colorbar": {
             "outlinewidth": 0,
             "ticks": ""
            },
            "colorscale": [
             [
              0,
              "#0d0887"
             ],
             [
              0.1111111111111111,
              "#46039f"
             ],
             [
              0.2222222222222222,
              "#7201a8"
             ],
             [
              0.3333333333333333,
              "#9c179e"
             ],
             [
              0.4444444444444444,
              "#bd3786"
             ],
             [
              0.5555555555555556,
              "#d8576b"
             ],
             [
              0.6666666666666666,
              "#ed7953"
             ],
             [
              0.7777777777777778,
              "#fb9f3a"
             ],
             [
              0.8888888888888888,
              "#fdca26"
             ],
             [
              1,
              "#f0f921"
             ]
            ],
            "type": "heatmap"
           }
          ],
          "heatmapgl": [
           {
            "colorbar": {
             "outlinewidth": 0,
             "ticks": ""
            },
            "colorscale": [
             [
              0,
              "#0d0887"
             ],
             [
              0.1111111111111111,
              "#46039f"
             ],
             [
              0.2222222222222222,
              "#7201a8"
             ],
             [
              0.3333333333333333,
              "#9c179e"
             ],
             [
              0.4444444444444444,
              "#bd3786"
             ],
             [
              0.5555555555555556,
              "#d8576b"
             ],
             [
              0.6666666666666666,
              "#ed7953"
             ],
             [
              0.7777777777777778,
              "#fb9f3a"
             ],
             [
              0.8888888888888888,
              "#fdca26"
             ],
             [
              1,
              "#f0f921"
             ]
            ],
            "type": "heatmapgl"
           }
          ],
          "histogram": [
           {
            "marker": {
             "pattern": {
              "fillmode": "overlay",
              "size": 10,
              "solidity": 0.2
             }
            },
            "type": "histogram"
           }
          ],
          "histogram2d": [
           {
            "colorbar": {
             "outlinewidth": 0,
             "ticks": ""
            },
            "colorscale": [
             [
              0,
              "#0d0887"
             ],
             [
              0.1111111111111111,
              "#46039f"
             ],
             [
              0.2222222222222222,
              "#7201a8"
             ],
             [
              0.3333333333333333,
              "#9c179e"
             ],
             [
              0.4444444444444444,
              "#bd3786"
             ],
             [
              0.5555555555555556,
              "#d8576b"
             ],
             [
              0.6666666666666666,
              "#ed7953"
             ],
             [
              0.7777777777777778,
              "#fb9f3a"
             ],
             [
              0.8888888888888888,
              "#fdca26"
             ],
             [
              1,
              "#f0f921"
             ]
            ],
            "type": "histogram2d"
           }
          ],
          "histogram2dcontour": [
           {
            "colorbar": {
             "outlinewidth": 0,
             "ticks": ""
            },
            "colorscale": [
             [
              0,
              "#0d0887"
             ],
             [
              0.1111111111111111,
              "#46039f"
             ],
             [
              0.2222222222222222,
              "#7201a8"
             ],
             [
              0.3333333333333333,
              "#9c179e"
             ],
             [
              0.4444444444444444,
              "#bd3786"
             ],
             [
              0.5555555555555556,
              "#d8576b"
             ],
             [
              0.6666666666666666,
              "#ed7953"
             ],
             [
              0.7777777777777778,
              "#fb9f3a"
             ],
             [
              0.8888888888888888,
              "#fdca26"
             ],
             [
              1,
              "#f0f921"
             ]
            ],
            "type": "histogram2dcontour"
           }
          ],
          "mesh3d": [
           {
            "colorbar": {
             "outlinewidth": 0,
             "ticks": ""
            },
            "type": "mesh3d"
           }
          ],
          "parcoords": [
           {
            "line": {
             "colorbar": {
              "outlinewidth": 0,
              "ticks": ""
             }
            },
            "type": "parcoords"
           }
          ],
          "pie": [
           {
            "automargin": true,
            "type": "pie"
           }
          ],
          "scatter": [
           {
            "fillpattern": {
             "fillmode": "overlay",
             "size": 10,
             "solidity": 0.2
            },
            "type": "scatter"
           }
          ],
          "scatter3d": [
           {
            "line": {
             "colorbar": {
              "outlinewidth": 0,
              "ticks": ""
             }
            },
            "marker": {
             "colorbar": {
              "outlinewidth": 0,
              "ticks": ""
             }
            },
            "type": "scatter3d"
           }
          ],
          "scattercarpet": [
           {
            "marker": {
             "colorbar": {
              "outlinewidth": 0,
              "ticks": ""
             }
            },
            "type": "scattercarpet"
           }
          ],
          "scattergeo": [
           {
            "marker": {
             "colorbar": {
              "outlinewidth": 0,
              "ticks": ""
             }
            },
            "type": "scattergeo"
           }
          ],
          "scattergl": [
           {
            "marker": {
             "colorbar": {
              "outlinewidth": 0,
              "ticks": ""
             }
            },
            "type": "scattergl"
           }
          ],
          "scattermapbox": [
           {
            "marker": {
             "colorbar": {
              "outlinewidth": 0,
              "ticks": ""
             }
            },
            "type": "scattermapbox"
           }
          ],
          "scatterpolar": [
           {
            "marker": {
             "colorbar": {
              "outlinewidth": 0,
              "ticks": ""
             }
            },
            "type": "scatterpolar"
           }
          ],
          "scatterpolargl": [
           {
            "marker": {
             "colorbar": {
              "outlinewidth": 0,
              "ticks": ""
             }
            },
            "type": "scatterpolargl"
           }
          ],
          "scatterternary": [
           {
            "marker": {
             "colorbar": {
              "outlinewidth": 0,
              "ticks": ""
             }
            },
            "type": "scatterternary"
           }
          ],
          "surface": [
           {
            "colorbar": {
             "outlinewidth": 0,
             "ticks": ""
            },
            "colorscale": [
             [
              0,
              "#0d0887"
             ],
             [
              0.1111111111111111,
              "#46039f"
             ],
             [
              0.2222222222222222,
              "#7201a8"
             ],
             [
              0.3333333333333333,
              "#9c179e"
             ],
             [
              0.4444444444444444,
              "#bd3786"
             ],
             [
              0.5555555555555556,
              "#d8576b"
             ],
             [
              0.6666666666666666,
              "#ed7953"
             ],
             [
              0.7777777777777778,
              "#fb9f3a"
             ],
             [
              0.8888888888888888,
              "#fdca26"
             ],
             [
              1,
              "#f0f921"
             ]
            ],
            "type": "surface"
           }
          ],
          "table": [
           {
            "cells": {
             "fill": {
              "color": "#EBF0F8"
             },
             "line": {
              "color": "white"
             }
            },
            "header": {
             "fill": {
              "color": "#C8D4E3"
             },
             "line": {
              "color": "white"
             }
            },
            "type": "table"
           }
          ]
         },
         "layout": {
          "annotationdefaults": {
           "arrowcolor": "#2a3f5f",
           "arrowhead": 0,
           "arrowwidth": 1
          },
          "autotypenumbers": "strict",
          "coloraxis": {
           "colorbar": {
            "outlinewidth": 0,
            "ticks": ""
           }
          },
          "colorscale": {
           "diverging": [
            [
             0,
             "#8e0152"
            ],
            [
             0.1,
             "#c51b7d"
            ],
            [
             0.2,
             "#de77ae"
            ],
            [
             0.3,
             "#f1b6da"
            ],
            [
             0.4,
             "#fde0ef"
            ],
            [
             0.5,
             "#f7f7f7"
            ],
            [
             0.6,
             "#e6f5d0"
            ],
            [
             0.7,
             "#b8e186"
            ],
            [
             0.8,
             "#7fbc41"
            ],
            [
             0.9,
             "#4d9221"
            ],
            [
             1,
             "#276419"
            ]
           ],
           "sequential": [
            [
             0,
             "#0d0887"
            ],
            [
             0.1111111111111111,
             "#46039f"
            ],
            [
             0.2222222222222222,
             "#7201a8"
            ],
            [
             0.3333333333333333,
             "#9c179e"
            ],
            [
             0.4444444444444444,
             "#bd3786"
            ],
            [
             0.5555555555555556,
             "#d8576b"
            ],
            [
             0.6666666666666666,
             "#ed7953"
            ],
            [
             0.7777777777777778,
             "#fb9f3a"
            ],
            [
             0.8888888888888888,
             "#fdca26"
            ],
            [
             1,
             "#f0f921"
            ]
           ],
           "sequentialminus": [
            [
             0,
             "#0d0887"
            ],
            [
             0.1111111111111111,
             "#46039f"
            ],
            [
             0.2222222222222222,
             "#7201a8"
            ],
            [
             0.3333333333333333,
             "#9c179e"
            ],
            [
             0.4444444444444444,
             "#bd3786"
            ],
            [
             0.5555555555555556,
             "#d8576b"
            ],
            [
             0.6666666666666666,
             "#ed7953"
            ],
            [
             0.7777777777777778,
             "#fb9f3a"
            ],
            [
             0.8888888888888888,
             "#fdca26"
            ],
            [
             1,
             "#f0f921"
            ]
           ]
          },
          "colorway": [
           "#636efa",
           "#EF553B",
           "#00cc96",
           "#ab63fa",
           "#FFA15A",
           "#19d3f3",
           "#FF6692",
           "#B6E880",
           "#FF97FF",
           "#FECB52"
          ],
          "font": {
           "color": "#2a3f5f"
          },
          "geo": {
           "bgcolor": "white",
           "lakecolor": "white",
           "landcolor": "#E5ECF6",
           "showlakes": true,
           "showland": true,
           "subunitcolor": "white"
          },
          "hoverlabel": {
           "align": "left"
          },
          "hovermode": "closest",
          "mapbox": {
           "style": "light"
          },
          "paper_bgcolor": "white",
          "plot_bgcolor": "#E5ECF6",
          "polar": {
           "angularaxis": {
            "gridcolor": "white",
            "linecolor": "white",
            "ticks": ""
           },
           "bgcolor": "#E5ECF6",
           "radialaxis": {
            "gridcolor": "white",
            "linecolor": "white",
            "ticks": ""
           }
          },
          "scene": {
           "xaxis": {
            "backgroundcolor": "#E5ECF6",
            "gridcolor": "white",
            "gridwidth": 2,
            "linecolor": "white",
            "showbackground": true,
            "ticks": "",
            "zerolinecolor": "white"
           },
           "yaxis": {
            "backgroundcolor": "#E5ECF6",
            "gridcolor": "white",
            "gridwidth": 2,
            "linecolor": "white",
            "showbackground": true,
            "ticks": "",
            "zerolinecolor": "white"
           },
           "zaxis": {
            "backgroundcolor": "#E5ECF6",
            "gridcolor": "white",
            "gridwidth": 2,
            "linecolor": "white",
            "showbackground": true,
            "ticks": "",
            "zerolinecolor": "white"
           }
          },
          "shapedefaults": {
           "line": {
            "color": "#2a3f5f"
           }
          },
          "ternary": {
           "aaxis": {
            "gridcolor": "white",
            "linecolor": "white",
            "ticks": ""
           },
           "baxis": {
            "gridcolor": "white",
            "linecolor": "white",
            "ticks": ""
           },
           "bgcolor": "#E5ECF6",
           "caxis": {
            "gridcolor": "white",
            "linecolor": "white",
            "ticks": ""
           }
          },
          "title": {
           "x": 0.05
          },
          "xaxis": {
           "automargin": true,
           "gridcolor": "white",
           "linecolor": "white",
           "ticks": "",
           "title": {
            "standoff": 15
           },
           "zerolinecolor": "white",
           "zerolinewidth": 2
          },
          "yaxis": {
           "automargin": true,
           "gridcolor": "white",
           "linecolor": "white",
           "ticks": "",
           "title": {
            "standoff": 15
           },
           "zerolinecolor": "white",
           "zerolinewidth": 2
          }
         }
        },
        "width": 1600
       }
      }
     },
     "metadata": {},
     "output_type": "display_data"
    }
   ],
   "source": [
    "import plotly.express as px\n",
    "fig = px.scatter_matrix(df_grouped, width=1600, height=800)\n",
    "fig.show()"
   ]
  },
  {
   "cell_type": "code",
   "execution_count": 785,
   "metadata": {},
   "outputs": [
    {
     "data": {
      "image/png": "[encoded data removed]",
      "text/plain": [
       "<Figure size 1440x720 with 2 Axes>"
      ]
     },
     "metadata": {},
     "output_type": "display_data"
    }
   ],
   "source": [
    "# heatmap correlation\n",
    "corr = df_grouped.corr()\n",
    "\n",
    "plt.figure(figsize=(20,10))\n",
    "sns.heatmap(corr, annot=True, fmt='.2f', annot_kws={\"size\": 20})\n",
    "plt.yticks(fontsize=14)\n",
    "plt.xticks(fontsize=14)\n",
    "plt.show()"
   ]
  },
  {
   "cell_type": "markdown",
   "metadata": {},
   "source": [
    "Multikolinearitas"
   ]
  },
  {
   "cell_type": "code",
   "execution_count": 786,
   "metadata": {},
   "outputs": [
    {
     "data": {
      "text/html": [
       "<div>\n",
       "<style scoped>\n",
       "    .dataframe tbody tr th:only-of-type {\n",
       "        vertical-align: middle;\n",
       "    }\n",
       "\n",
       "    .dataframe tbody tr th {\n",
       "        vertical-align: top;\n",
       "    }\n",
       "\n",
       "    .dataframe thead th {\n",
       "        text-align: right;\n",
       "    }\n",
       "</style>\n",
       "<table border=\"1\" class=\"dataframe\">\n",
       "  <thead>\n",
       "    <tr style=\"text-align: right;\">\n",
       "      <th></th>\n",
       "      <th>feature</th>\n",
       "      <th>VIF</th>\n",
       "    </tr>\n",
       "  </thead>\n",
       "  <tbody>\n",
       "    <tr>\n",
       "      <th>1</th>\n",
       "      <td>TransactionCount</td>\n",
       "      <td>4.765002</td>\n",
       "    </tr>\n",
       "    <tr>\n",
       "      <th>2</th>\n",
       "      <td>TotalQty</td>\n",
       "      <td>6.789994</td>\n",
       "    </tr>\n",
       "    <tr>\n",
       "      <th>3</th>\n",
       "      <td>TotalAmountSum</td>\n",
       "      <td>5.916470</td>\n",
       "    </tr>\n",
       "  </tbody>\n",
       "</table>\n",
       "</div>"
      ],
      "text/plain": [
       "            feature       VIF\n",
       "1  TransactionCount  4.765002\n",
       "2          TotalQty  6.789994\n",
       "3    TotalAmountSum  5.916470"
      ]
     },
     "metadata": {},
     "output_type": "display_data"
    }
   ],
   "source": [
    "# MULTIKOLINEARITAS\n",
    "\n",
    "from statsmodels.stats.outliers_influence import variance_inflation_factor\n",
    "from statsmodels.tools import add_constant\n",
    "\n",
    "# Tambahkan sebuah konstanta pada dataframe (prasyarat perhitungan)\n",
    "selected_columns = df_grouped.columns\n",
    "df_selected = df_grouped[selected_columns]\n",
    "\n",
    "features = add_constant(df_selected)\n",
    "\n",
    "# VIF dataframe\n",
    "vif_data = pd.DataFrame()\n",
    "\n",
    "# Hitung VIF tiap fitur\n",
    "vif_data[\"feature\"] = features.columns\n",
    "vif_data[\"VIF\"] = [variance_inflation_factor(features.values, i) for i in range(len(features.columns))]\n",
    "vif_data = vif_data[vif_data['feature'] != 'const']\n",
    "\n",
    "display(vif_data)"
   ]
  },
  {
   "cell_type": "markdown",
   "metadata": {},
   "source": [
    "### Feature Engineering"
   ]
  },
  {
   "cell_type": "code",
   "execution_count": 787,
   "metadata": {},
   "outputs": [],
   "source": [
    "import numpy as np\n",
    "import pandas as pd\n",
    "\n",
    "def remove_outliers_dataframe(df, columns, threshold=3):\n",
    "    df_filtered = df.copy()\n",
    "\n",
    "    for column in columns:\n",
    "        data = df[column]\n",
    "        mean = np.mean(data)\n",
    "        std = np.std(data)\n",
    "        z_scores = np.abs((data - mean) / std)\n",
    "        df_filtered = df_filtered[z_scores < threshold]\n",
    "\n",
    "    return df_filtered"
   ]
  },
  {
   "cell_type": "code",
   "execution_count": 788,
   "metadata": {},
   "outputs": [
    {
     "data": {
      "text/html": [
       "<div>\n",
       "<style scoped>\n",
       "    .dataframe tbody tr th:only-of-type {\n",
       "        vertical-align: middle;\n",
       "    }\n",
       "\n",
       "    .dataframe tbody tr th {\n",
       "        vertical-align: top;\n",
       "    }\n",
       "\n",
       "    .dataframe thead th {\n",
       "        text-align: right;\n",
       "    }\n",
       "</style>\n",
       "<table border=\"1\" class=\"dataframe\">\n",
       "  <thead>\n",
       "    <tr style=\"text-align: right;\">\n",
       "      <th></th>\n",
       "      <th>TransactionCount</th>\n",
       "      <th>TotalQty</th>\n",
       "      <th>TotalAmountSum</th>\n",
       "    </tr>\n",
       "    <tr>\n",
       "      <th>CustomerID</th>\n",
       "      <th></th>\n",
       "      <th></th>\n",
       "      <th></th>\n",
       "    </tr>\n",
       "  </thead>\n",
       "  <tbody>\n",
       "    <tr>\n",
       "      <th>1</th>\n",
       "      <td>17</td>\n",
       "      <td>60</td>\n",
       "      <td>623300</td>\n",
       "    </tr>\n",
       "    <tr>\n",
       "      <th>10</th>\n",
       "      <td>14</td>\n",
       "      <td>50</td>\n",
       "      <td>478000</td>\n",
       "    </tr>\n",
       "    <tr>\n",
       "      <th>100</th>\n",
       "      <td>8</td>\n",
       "      <td>35</td>\n",
       "      <td>272400</td>\n",
       "    </tr>\n",
       "    <tr>\n",
       "      <th>101</th>\n",
       "      <td>14</td>\n",
       "      <td>44</td>\n",
       "      <td>439600</td>\n",
       "    </tr>\n",
       "    <tr>\n",
       "      <th>102</th>\n",
       "      <td>15</td>\n",
       "      <td>57</td>\n",
       "      <td>423300</td>\n",
       "    </tr>\n",
       "    <tr>\n",
       "      <th>...</th>\n",
       "      <td>...</td>\n",
       "      <td>...</td>\n",
       "      <td>...</td>\n",
       "    </tr>\n",
       "    <tr>\n",
       "      <th>95</th>\n",
       "      <td>12</td>\n",
       "      <td>43</td>\n",
       "      <td>410200</td>\n",
       "    </tr>\n",
       "    <tr>\n",
       "      <th>96</th>\n",
       "      <td>12</td>\n",
       "      <td>44</td>\n",
       "      <td>355100</td>\n",
       "    </tr>\n",
       "    <tr>\n",
       "      <th>97</th>\n",
       "      <td>14</td>\n",
       "      <td>36</td>\n",
       "      <td>329500</td>\n",
       "    </tr>\n",
       "    <tr>\n",
       "      <th>98</th>\n",
       "      <td>9</td>\n",
       "      <td>34</td>\n",
       "      <td>362500</td>\n",
       "    </tr>\n",
       "    <tr>\n",
       "      <th>99</th>\n",
       "      <td>9</td>\n",
       "      <td>33</td>\n",
       "      <td>316400</td>\n",
       "    </tr>\n",
       "  </tbody>\n",
       "</table>\n",
       "<p>443 rows × 3 columns</p>\n",
       "</div>"
      ],
      "text/plain": [
       "            TransactionCount  TotalQty  TotalAmountSum\n",
       "CustomerID                                            \n",
       "1                         17        60          623300\n",
       "10                        14        50          478000\n",
       "100                        8        35          272400\n",
       "101                       14        44          439600\n",
       "102                       15        57          423300\n",
       "...                      ...       ...             ...\n",
       "95                        12        43          410200\n",
       "96                        12        44          355100\n",
       "97                        14        36          329500\n",
       "98                         9        34          362500\n",
       "99                         9        33          316400\n",
       "\n",
       "[443 rows x 3 columns]"
      ]
     },
     "execution_count": 788,
     "metadata": {},
     "output_type": "execute_result"
    }
   ],
   "source": [
    "# Kolom-kolom yang ingin difilter\n",
    "columns_to_filter = ['TransactionCount', 'TotalQty', 'TotalAmountSum']\n",
    "\n",
    "# Menghapus outlier dari kolom-kolom yang ditentukan\n",
    "df_grouped = remove_outliers_dataframe(df_grouped, columns_to_filter)\n",
    "\n",
    "df_grouped"
   ]
  },
  {
   "cell_type": "code",
   "execution_count": 789,
   "metadata": {},
   "outputs": [
    {
     "data": {
      "image/png": "[encoded data removed]",
      "text/plain": [
       "<Figure size 1080x432 with 1 Axes>"
      ]
     },
     "metadata": {},
     "output_type": "display_data"
    }
   ],
   "source": [
    "plot_box(data = df_grouped.iloc[:,:2],\n",
    "         labels = df_grouped.columns.tolist()[:2],\n",
    "         title='Boxplot of Dataset Features')"
   ]
  },
  {
   "cell_type": "code",
   "execution_count": 790,
   "metadata": {},
   "outputs": [
    {
     "data": {
      "image/png": "[encoded data removed]",
      "text/plain": [
       "<Figure size 1080x432 with 1 Axes>"
      ]
     },
     "metadata": {},
     "output_type": "display_data"
    }
   ],
   "source": [
    "plot_box(data = df_grouped.iloc[:,2:],\n",
    "         labels = df_grouped.columns.tolist()[2:],\n",
    "         title='Boxplot of Dataset Features')"
   ]
  },
  {
   "cell_type": "code",
   "execution_count": 791,
   "metadata": {},
   "outputs": [
    {
     "data": {
      "text/plain": [
       "[[0.875, 0.7936507936507936, 0.9094333162129773],\n",
       " [0.6875, 0.6349206349206349, 0.6606745420304743],\n",
       " [0.3125, 0.39682539682539686, 0.30868002054442734],\n",
       " [0.6875, 0.5396825396825397, 0.5949323745933915],\n",
       " [0.75, 0.7460317460317459, 0.5670261941448382]]"
      ]
     },
     "execution_count": 791,
     "metadata": {},
     "output_type": "execute_result"
    }
   ],
   "source": [
    "from sklearn.preprocessing import MinMaxScaler\n",
    "\n",
    "X = df_grouped\n",
    "scaler = MinMaxScaler().fit(X)\n",
    "X = scaler.transform(X)\n",
    "\n",
    "X.tolist()[:5]"
   ]
  },
  {
   "cell_type": "code",
   "execution_count": 792,
   "metadata": {},
   "outputs": [],
   "source": [
    "from sklearn.cluster import KMeans\n",
    "from sklearn.metrics import silhouette_score\n",
    "from sklearn.metrics import davies_bouldin_score\n",
    "from sklearn.metrics import calinski_harabasz_score\n",
    "\n",
    "# Menggunakan metode Elbow untuk menentukan jumlah kluster yang optimal\n",
    "inertia = []\n",
    "silhouette = []\n",
    "davies_bouldin = []\n",
    "calinski_harabasz = []\n",
    "k_values = range(2, 15)  # Mencoba jumlah kluster dari 2 hingga 14\n",
    "for k in k_values:\n",
    "    kmeans = KMeans(n_clusters=k)\n",
    "    kmeans.fit(X)\n",
    "    inertia.append(kmeans.inertia_)\n",
    "    labels = kmeans.predict(X)\n",
    "    silhouette.append(silhouette_score(X, labels))\n",
    "    davies_bouldin.append(davies_bouldin_score(X, labels))\n",
    "    calinski_harabasz.append(calinski_harabasz_score(X, labels))"
   ]
  },
  {
   "cell_type": "code",
   "execution_count": 794,
   "metadata": {},
   "outputs": [
    {
     "data": {
      "image/png": "[encoded data removed]",
      "text/plain": [
       "<Figure size 1440x576 with 3 Axes>"
      ]
     },
     "metadata": {},
     "output_type": "display_data"
    }
   ],
   "source": [
    "# Plot hasil evaluasi\n",
    "plt.figure(figsize=(20, 8))\n",
    "\n",
    "# Subplot 1: Elbow Curve - Inertia\n",
    "plt.subplot(1, 3, 1)\n",
    "plt.plot(k_values, inertia, c='black', marker='o')\n",
    "plt.xlabel('Number of Clusters', fontsize=12)\n",
    "plt.ylabel('Inertia', fontsize=12)\n",
    "plt.title('Elbow Curve - Inertia', fontsize=12)\n",
    "plt.xticks(fontsize=12)\n",
    "plt.yticks(fontsize=12)\n",
    "\n",
    "# Subplot 2: Evaluation Metrics (Silhouette, Davies-Bouldin, Calinski-Harabasz)\n",
    "plt.subplot(1, 3, 2)\n",
    "plt.plot(k_values, silhouette, 'bo-', label='Silhouette')\n",
    "plt.plot(k_values, davies_bouldin, 'ro-', label='Davies-Bouldin')\n",
    "plt.xlabel('Number of Clusters', fontsize=12)\n",
    "plt.ylabel('Metric Score', fontsize=12)\n",
    "plt.title('Evaluation Metrics', fontsize=12)\n",
    "plt.xticks(fontsize=12)\n",
    "plt.yticks(fontsize=12)\n",
    "plt.legend(loc='best')\n",
    "\n",
    "# Subplot 3: Calinski-Harabasz Curve\n",
    "plt.subplot(1, 3, 3)\n",
    "plt.plot(k_values, calinski_harabasz, 'go-', label='Calinski-Harabasz')\n",
    "plt.xlabel('Number of Clusters', fontsize=12)\n",
    "plt.ylabel('Metric Score', fontsize=12)\n",
    "plt.title('Calinski-Harabasz Curve', fontsize=12)\n",
    "plt.xticks(fontsize=12)\n",
    "plt.yticks(fontsize=12)\n",
    "plt.legend(loc='best')\n",
    "\n",
    "plt.tight_layout()\n",
    "plt.show()"
   ]
  },
  {
   "cell_type": "code",
   "execution_count": 795,
   "metadata": {},
   "outputs": [
    {
     "data": {
      "text/html": [
       "<div>\n",
       "<style scoped>\n",
       "    .dataframe tbody tr th:only-of-type {\n",
       "        vertical-align: middle;\n",
       "    }\n",
       "\n",
       "    .dataframe tbody tr th {\n",
       "        vertical-align: top;\n",
       "    }\n",
       "\n",
       "    .dataframe thead th {\n",
       "        text-align: right;\n",
       "    }\n",
       "</style>\n",
       "<table border=\"1\" class=\"dataframe\">\n",
       "  <thead>\n",
       "    <tr style=\"text-align: right;\">\n",
       "      <th></th>\n",
       "      <th>TransactionCount</th>\n",
       "      <th>TotalQty</th>\n",
       "      <th>TotalAmountSum</th>\n",
       "    </tr>\n",
       "    <tr>\n",
       "      <th>CustomerID</th>\n",
       "      <th></th>\n",
       "      <th></th>\n",
       "      <th></th>\n",
       "    </tr>\n",
       "  </thead>\n",
       "  <tbody>\n",
       "    <tr>\n",
       "      <th>1</th>\n",
       "      <td>17</td>\n",
       "      <td>60</td>\n",
       "      <td>623300</td>\n",
       "    </tr>\n",
       "    <tr>\n",
       "      <th>10</th>\n",
       "      <td>14</td>\n",
       "      <td>50</td>\n",
       "      <td>478000</td>\n",
       "    </tr>\n",
       "    <tr>\n",
       "      <th>100</th>\n",
       "      <td>8</td>\n",
       "      <td>35</td>\n",
       "      <td>272400</td>\n",
       "    </tr>\n",
       "    <tr>\n",
       "      <th>101</th>\n",
       "      <td>14</td>\n",
       "      <td>44</td>\n",
       "      <td>439600</td>\n",
       "    </tr>\n",
       "    <tr>\n",
       "      <th>102</th>\n",
       "      <td>15</td>\n",
       "      <td>57</td>\n",
       "      <td>423300</td>\n",
       "    </tr>\n",
       "  </tbody>\n",
       "</table>\n",
       "</div>"
      ],
      "text/plain": [
       "            TransactionCount  TotalQty  TotalAmountSum\n",
       "CustomerID                                            \n",
       "1                         17        60          623300\n",
       "10                        14        50          478000\n",
       "100                        8        35          272400\n",
       "101                       14        44          439600\n",
       "102                       15        57          423300"
      ]
     },
     "execution_count": 795,
     "metadata": {},
     "output_type": "execute_result"
    }
   ],
   "source": [
    "# Gantilah nilai k terbaik sesuai hasil analisis dari plot yang ditampilkan\n",
    "n_clust = 3\n",
    "\n",
    "# Melakukan clustering menggunakan jumlah kluster yang telah ditentukan\n",
    "kmeans = KMeans(n_clusters=n_clust)\n",
    "kmeans.fit(X)\n",
    "labels = kmeans.predict(X)\n",
    "\n",
    "df_grouped.head()"
   ]
  },
  {
   "cell_type": "code",
   "execution_count": 828,
   "metadata": {},
   "outputs": [
    {
     "data": {
      "application/vnd.plotly.v1+json": {
       "config": {
        "plotlyServerURL": "https://plot.ly"
       },
       "data": [
        {
         "marker": {
          "color": "red",
          "size": 5
         },
         "mode": "markers",
         "name": "Cluster 1",
         "type": "scatter3d",
         "x": [
          0.5,
          0.625,
          0.5,
          0.5,
          0.625,
          0.5,
          0.375,
          0.4375,
          0.5,
          0.5,
          0.6875,
          0.5625,
          0.375,
          0.5625,
          0.5,
          0.625,
          0.5,
          0.4375,
          0.5625,
          0.5625,
          0.375,
          0.5,
          0.5,
          0.625,
          0.4375,
          0.625,
          0.4375,
          0.5625,
          0.5625,
          0.625,
          0.5625,
          0.5,
          0.5625,
          0.5,
          0.375,
          0.5,
          0.4375,
          0.4375,
          0.5,
          0.3125,
          0.5,
          0.5625,
          0.625,
          0.4375,
          0.5,
          0.375,
          0.375,
          0.5,
          0.4375,
          0.5,
          0.5625,
          0.375,
          0.625,
          0.5625,
          0.5625,
          0.4375,
          0.375,
          0.4375,
          0.4375,
          0.5625,
          0.4375,
          0.625,
          0.375,
          0.5625,
          0.5,
          0.4375,
          0.375,
          0.4375,
          0.3125,
          0.4375,
          0.625,
          0.375,
          0.375,
          0.625,
          0.4375,
          0.625,
          0.4375,
          0.4375,
          0.375,
          0.375,
          0.375,
          0.4375,
          0.4375,
          0.5625,
          0.5,
          0.375,
          0.5,
          0.4375,
          0.5625,
          0.5,
          0.625,
          0.4375,
          0.5,
          0.5625,
          0.4375,
          0.625,
          0.4375,
          0.4375,
          0.4375,
          0.625,
          0.375,
          0.4375,
          0.5,
          0.6875,
          0.4375,
          0.5,
          0.5,
          0.6875,
          0.4375,
          0.625,
          0.5625,
          0.4375,
          0.4375,
          0.375,
          0.5625,
          0.5,
          0.5,
          0.375,
          0.4375,
          0.625,
          0.625,
          0.375,
          0.4375,
          0.4375,
          0.5,
          0.6875,
          0.4375,
          0.375,
          0.5625,
          0.5,
          0.4375,
          0.4375,
          0.625,
          0.5625,
          0.5,
          0.5,
          0.5625,
          0.4375,
          0.625,
          0.4375,
          0.6875,
          0.5625,
          0.25,
          0.5625,
          0.4375,
          0.5,
          0.5625,
          0.5625,
          0.5625,
          0.375,
          0.625,
          0.5,
          0.5,
          0.5,
          0.5625,
          0.375,
          0.5625,
          0.4375,
          0.4375,
          0.5625,
          0.5,
          0.625,
          0.5,
          0.375,
          0.625,
          0.625,
          0.4375,
          0.4375,
          0.625,
          0.5,
          0.4375,
          0.5625,
          0.625,
          0.5,
          0.625,
          0.4375,
          0.4375,
          0.5,
          0.75,
          0.625,
          0.5,
          0.5,
          0.5,
          0.4375,
          0.5,
          0.4375,
          0.4375,
          0.4375,
          0.4375,
          0.5,
          0.625,
          0.4375,
          0.5,
          0.625,
          0.5,
          0.4375,
          0.4375,
          0.6875,
          0.5625,
          0.5625,
          0.6875,
          0.375,
          0.375
         ],
         "y": [
          0.3333333333333333,
          0.4126984126984127,
          0.46031746031746035,
          0.5238095238095238,
          0.39682539682539686,
          0.5396825396825397,
          0.492063492063492,
          0.4126984126984127,
          0.5396825396825397,
          0.4126984126984127,
          0.5238095238095238,
          0.5396825396825397,
          0.4444444444444444,
          0.39682539682539686,
          0.4444444444444444,
          0.46031746031746035,
          0.5079365079365079,
          0.5079365079365079,
          0.4444444444444444,
          0.5396825396825397,
          0.4444444444444444,
          0.6349206349206349,
          0.5079365079365079,
          0.5079365079365079,
          0.30158730158730157,
          0.6349206349206349,
          0.31746031746031744,
          0.38095238095238093,
          0.38095238095238093,
          0.47619047619047616,
          0.6507936507936508,
          0.6349206349206349,
          0.5238095238095238,
          0.492063492063492,
          0.365079365079365,
          0.6031746031746031,
          0.31746031746031744,
          0.4126984126984127,
          0.5873015873015873,
          0.492063492063492,
          0.31746031746031744,
          0.47619047619047616,
          0.6507936507936508,
          0.4285714285714285,
          0.4126984126984127,
          0.4285714285714285,
          0.4285714285714285,
          0.5555555555555555,
          0.365079365079365,
          0.5079365079365079,
          0.5555555555555555,
          0.47619047619047616,
          0.5238095238095238,
          0.47619047619047616,
          0.5396825396825397,
          0.5079365079365079,
          0.46031746031746035,
          0.39682539682539686,
          0.47619047619047616,
          0.5396825396825397,
          0.492063492063492,
          0.5714285714285714,
          0.4285714285714285,
          0.5238095238095238,
          0.4285714285714285,
          0.39682539682539686,
          0.4444444444444444,
          0.30158730158730157,
          0.4285714285714285,
          0.365079365079365,
          0.39682539682539686,
          0.365079365079365,
          0.4444444444444444,
          0.5079365079365079,
          0.5555555555555555,
          0.4285714285714285,
          0.5238095238095238,
          0.365079365079365,
          0.46031746031746035,
          0.38095238095238093,
          0.4285714285714285,
          0.39682539682539686,
          0.4285714285714285,
          0.5555555555555555,
          0.4285714285714285,
          0.38095238095238093,
          0.38095238095238093,
          0.47619047619047616,
          0.5873015873015873,
          0.39682539682539686,
          0.6349206349206349,
          0.3492063492063492,
          0.5079365079365079,
          0.5714285714285714,
          0.4285714285714285,
          0.6031746031746031,
          0.47619047619047616,
          0.38095238095238093,
          0.5873015873015873,
          0.5079365079365079,
          0.3333333333333333,
          0.39682539682539686,
          0.492063492063492,
          0.5079365079365079,
          0.39682539682539686,
          0.6984126984126984,
          0.4285714285714285,
          0.46031746031746035,
          0.47619047619047616,
          0.2698412698412698,
          0.365079365079365,
          0.4126984126984127,
          0.47619047619047616,
          0.4126984126984127,
          0.4126984126984127,
          0.5079365079365079,
          0.46031746031746035,
          0.5079365079365079,
          0.39682539682539686,
          0.4444444444444444,
          0.4285714285714285,
          0.5079365079365079,
          0.30158730158730157,
          0.4285714285714285,
          0.4285714285714285,
          0.5238095238095238,
          0.5079365079365079,
          0.5555555555555555,
          0.5079365079365079,
          0.5079365079365079,
          0.4444444444444444,
          0.39682539682539686,
          0.5396825396825397,
          0.5714285714285714,
          0.5079365079365079,
          0.365079365079365,
          0.4126984126984127,
          0.3492063492063492,
          0.365079365079365,
          0.4285714285714285,
          0.5555555555555555,
          0.6825396825396824,
          0.46031746031746035,
          0.492063492063492,
          0.365079365079365,
          0.492063492063492,
          0.5555555555555555,
          0.5555555555555555,
          0.619047619047619,
          0.365079365079365,
          0.5396825396825397,
          0.5079365079365079,
          0.47619047619047616,
          0.25396825396825395,
          0.492063492063492,
          0.4444444444444444,
          0.4285714285714285,
          0.5714285714285714,
          0.31746031746031744,
          0.5714285714285714,
          0.6031746031746031,
          0.5396825396825397,
          0.5079365079365079,
          0.46031746031746035,
          0.492063492063492,
          0.4444444444444444,
          0.492063492063492,
          0.5238095238095238,
          0.47619047619047616,
          0.3492063492063492,
          0.492063492063492,
          0.47619047619047616,
          0.4285714285714285,
          0.5079365079365079,
          0.5079365079365079,
          0.5555555555555555,
          0.39682539682539686,
          0.5555555555555555,
          0.5238095238095238,
          0.47619047619047616,
          0.5079365079365079,
          0.47619047619047616,
          0.492063492063492,
          0.5396825396825397,
          0.4285714285714285,
          0.47619047619047616,
          0.492063492063492,
          0.5396825396825397,
          0.4444444444444444,
          0.4285714285714285,
          0.47619047619047616,
          0.3492063492063492,
          0.619047619047619,
          0.492063492063492,
          0.492063492063492,
          0.5396825396825397,
          0.4444444444444444,
          0.5238095238095238,
          0.5238095238095238,
          0.5396825396825397,
          0.4126984126984127,
          0.38095238095238093,
          0.365079365079365
         ],
         "z": [
          0.38709125149803114,
          0.31929464132853963,
          0.49940078753638073,
          0.4935798664612224,
          0.31843862352336927,
          0.3629515493922274,
          0.5055641157336073,
          0.3805855161787365,
          0.5927067282999486,
          0.5007704160246533,
          0.507276151343948,
          0.5447697312104092,
          0.33881184728642355,
          0.524567711008389,
          0.37527820578668036,
          0.46550248245163506,
          0.46550248245163506,
          0.5163499400787537,
          0.5379215887690464,
          0.5387776065742168,
          0.44341722307824005,
          0.6028077384009588,
          0.3995891114535183,
          0.5699366546824174,
          0.3754494093477144,
          0.48536209553158705,
          0.42544084916966274,
          0.38657764081492896,
          0.41414141414141414,
          0.3502824858757062,
          0.3877760657421675,
          0.4764595103578154,
          0.4518061975689095,
          0.45283341893511386,
          0.440849169662729,
          0.5915083033727102,
          0.36414997431946583,
          0.2843691148775895,
          0.47098099640472524,
          0.3723677452491012,
          0.3162129772299264,
          0.35969868173258,
          0.44838212634822805,
          0.35901386748844377,
          0.49614791987673346,
          0.46824173942818015,
          0.28334189351138506,
          0.5057353192946413,
          0.29327170005136105,
          0.657592877931861,
          0.42681047765793534,
          0.3747645951035782,
          0.5523026878959083,
          0.49700393768190376,
          0.5511042629686698,
          0.3196370484506078,
          0.4309193631227529,
          0.3557609998287965,
          0.3864064372538949,
          0.51241225817497,
          0.4146550248245163,
          0.4625920219140558,
          0.31415853449751757,
          0.5348399246704332,
          0.46053757918164695,
          0.5213148433487417,
          0.36175312446498886,
          0.37407978085944193,
          0.4956343091936313,
          0.40558123608971064,
          0.41688067111795923,
          0.4651600753295668,
          0.5459681561376477,
          0.487758945386064,
          0.35456257490155796,
          0.5945899674713234,
          0.42681047765793534,
          0.3466872110939908,
          0.3264851908919706,
          0.352165725047081,
          0.3668892312960109,
          0.3182674199623352,
          0.3833247731552817,
          0.5490498202362609,
          0.4761171032357473,
          0.34600239684985445,
          0.24225303886320837,
          0.3430919363122753,
          0.48947098099640474,
          0.568909433316213,
          0.4625920219140558,
          0.40455401472350627,
          0.3511385036808766,
          0.28334189351138506,
          0.3466872110939908,
          0.5389488101352509,
          0.48673172401985965,
          0.4048964218455744,
          0.5017976373908577,
          0.31655538435199454,
          0.3946242081835303,
          0.42578325629173086,
          0.514809108029447,
          0.3463448039719226,
          0.2853963362437939,
          0.5675398048279404,
          0.31655538435199454,
          0.34292073275124124,
          0.38983050847457623,
          0.2105803800719055,
          0.519602807738401,
          0.31415853449751757,
          0.48073959938366717,
          0.42441362780345837,
          0.45146379044684126,
          0.36089710665981856,
          0.5194316041773669,
          0.46995377503852087,
          0.4593391542544085,
          0.426125663413799,
          0.4512925868858072,
          0.4405067625406609,
          0.36312275295326146,
          0.2840267077555213,
          0.38161273754494096,
          0.5396336243793871,
          0.3648347885636022,
          0.5548707413114193,
          0.5702790618044855,
          0.5356959424756035,
          0.3709981167608286,
          0.2665639445300462,
          0.4355418592706728,
          0.42578325629173086,
          0.39479541174456434,
          0.4059236432117789,
          0.5495634309193631,
          0.37716144495805515,
          0.4454716658106489,
          0.4399931518575586,
          0.4990583804143126,
          0.47406266050333845,
          0.497346344803972,
          0.6486902927580894,
          0.3819551446670091,
          0.34292073275124124,
          0.35781544256120523,
          0.4923814415339839,
          0.46379044684129433,
          0.35045368943674027,
          0.4530046224961479,
          0.37493579866461224,
          0.4850196884095189,
          0.3864064372538949,
          0.31159048108200654,
          0.3502824858757062,
          0.30337271015237116,
          0.3602122924156823,
          0.35285053929121724,
          0.40969012155452833,
          0.6161616161616161,
          0.499914398219483,
          0.5564115733607259,
          0.595959595959596,
          0.44564286937168296,
          0.5620612908748502,
          0.3430919363122753,
          0.44872453347029617,
          0.4584831364492382,
          0.4435884266392741,
          0.4387947269303202,
          0.5189179934942647,
          0.3035439137134052,
          0.5670261941448382,
          0.5944187639102894,
          0.42818010614620783,
          0.4052388289676425,
          0.5949323745933915,
          0.4175654853620956,
          0.5160075329566856,
          0.3737373737373737,
          0.5362095531587057,
          0.5005992124636193,
          0.6283170689950351,
          0.54185927067283,
          0.3009758602978942,
          0.566512583461736,
          0.44564286937168296,
          0.3963362437938709,
          0.4518061975689095,
          0.5332990926211265,
          0.5036808765622325,
          0.49940078753638073,
          0.3894881013525081,
          0.5175483650059921,
          0.44016435541859267,
          0.4720082177709296,
          0.5112138332477316,
          0.5445985276493751,
          0.45026536551960283,
          0.40643725389488106,
          0.4629344290361239,
          0.38400958739941793
         ]
        },
        {
         "marker": {
          "color": "blue",
          "size": 5
         },
         "mode": "markers",
         "name": "Cluster 2",
         "type": "scatter3d",
         "x": [
          0.875,
          0.6875,
          0.6875,
          0.75,
          0.6875,
          0.8125,
          0.5,
          0.75,
          0.6875,
          0.5,
          0.6875,
          0.6875,
          0.8125,
          0.6875,
          0.6875,
          0.5625,
          0.6875,
          1,
          0.5625,
          0.875,
          0.6875,
          0.6875,
          0.75,
          0.875,
          0.75,
          0.625,
          0.875,
          0.875,
          0.875,
          0.625,
          0.6875,
          0.6875,
          0.75,
          0.9375,
          0.75,
          0.6875,
          0.625,
          0.75,
          0.625,
          0.6875,
          0.6875,
          0.8125,
          0.625,
          0.75,
          0.75,
          0.75,
          0.875,
          0.875,
          0.75,
          0.625,
          0.75,
          1,
          0.8125,
          0.6875,
          0.75,
          0.8125,
          0.5625,
          0.8125,
          0.875,
          0.6875,
          0.625,
          0.625,
          0.75,
          0.8125,
          0.75,
          0.875,
          0.75,
          0.625,
          0.6875,
          0.75,
          0.8125,
          0.8125,
          0.8125,
          0.75,
          0.625,
          0.6875,
          0.6875,
          0.75,
          0.875,
          0.6875,
          0.8125,
          0.8125,
          0.5,
          0.8125,
          0.5625,
          0.5,
          0.6875,
          0.8125,
          0.8125,
          0.5625,
          0.8125,
          0.625,
          0.75,
          0.75,
          0.8125,
          0.6875,
          0.8125,
          0.75,
          0.8125,
          0.5,
          0.6875,
          0.625,
          0.6875,
          0.625,
          0.5625,
          0.6875,
          1,
          0.8125,
          0.9375,
          0.9375,
          0.875,
          0.75,
          0.75,
          0.6875,
          0.875,
          0.6875,
          0.875,
          0.8125,
          0.875,
          0.6875,
          0.6875,
          0.8125,
          0.6875,
          0.875,
          0.75
         ],
         "y": [
          0.7936507936507936,
          0.6349206349206349,
          0.5396825396825397,
          0.7460317460317459,
          0.6825396825396824,
          0.8571428571428571,
          0.5714285714285714,
          0.6984126984126984,
          0.6984126984126984,
          0.6666666666666666,
          0.7619047619047619,
          0.5714285714285714,
          0.8095238095238094,
          0.6349206349206349,
          0.6666666666666666,
          0.6825396825396824,
          0.5714285714285714,
          0.9206349206349206,
          0.6825396825396824,
          0.7301587301587301,
          0.8253968253968254,
          0.6984126984126984,
          0.8730158730158729,
          0.7777777777777778,
          0.5714285714285714,
          0.8888888888888887,
          0.8730158730158729,
          0.9206349206349206,
          0.6349206349206349,
          0.6666666666666666,
          0.5396825396825397,
          0.8571428571428571,
          0.5396825396825397,
          0.9999999999999999,
          0.8412698412698413,
          0.6507936507936508,
          0.7460317460317459,
          0.6825396825396824,
          0.7619047619047619,
          0.7460317460317459,
          0.6984126984126984,
          0.7619047619047619,
          0.7619047619047619,
          0.6031746031746031,
          0.7142857142857143,
          0.619047619047619,
          0.8730158730158729,
          0.6507936507936508,
          0.9206349206349206,
          0.5555555555555555,
          0.7142857142857143,
          0.9841269841269841,
          0.6031746031746031,
          0.5555555555555555,
          0.6984126984126984,
          0.7936507936507936,
          0.5714285714285714,
          0.619047619047619,
          0.7619047619047619,
          0.6984126984126984,
          0.6984126984126984,
          0.6507936507936508,
          0.5396825396825397,
          0.7777777777777778,
          0.6666666666666666,
          0.8095238095238094,
          0.8412698412698413,
          0.6507936507936508,
          0.6666666666666666,
          0.7301587301587301,
          0.6825396825396824,
          0.9206349206349206,
          0.6507936507936508,
          0.7619047619047619,
          0.7460317460317459,
          0.7460317460317459,
          0.7460317460317459,
          0.5873015873015873,
          0.8412698412698413,
          0.6507936507936508,
          0.6984126984126984,
          0.6349206349206349,
          0.7619047619047619,
          0.7460317460317459,
          0.6825396825396824,
          0.6507936507936508,
          0.9841269841269841,
          0.7142857142857143,
          0.6825396825396824,
          0.6984126984126984,
          0.8730158730158729,
          0.6507936507936508,
          0.6825396825396824,
          0.6666666666666666,
          0.6825396825396824,
          0.8253968253968254,
          0.9682539682539683,
          0.8888888888888887,
          0.8253968253968254,
          0.6507936507936508,
          0.7142857142857143,
          0.7460317460317459,
          0.6825396825396824,
          0.7460317460317459,
          0.6666666666666666,
          0.5873015873015873,
          0.9682539682539683,
          0.7777777777777778,
          0.8253968253968254,
          0.9206349206349206,
          0.6984126984126984,
          0.619047619047619,
          0.7460317460317459,
          0.6666666666666666,
          0.7301587301587301,
          0.7460317460317459,
          0.7460317460317459,
          0.8730158730158729,
          0.8095238095238094,
          0.6507936507936508,
          0.5873015873015873,
          0.8253968253968254,
          0.619047619047619,
          0.8253968253968254,
          0.6825396825396824
         ],
         "z": [
          0.9094333162129773,
          0.6606745420304743,
          0.5949323745933915,
          0.5670261941448382,
          0.7212806026365348,
          0.79301489470981,
          0.7267591165896251,
          0.5243965074473549,
          0.7502140044512926,
          0.6709467556925184,
          0.6932032186269474,
          0.6349940078753639,
          0.8395822633110769,
          0.7027906180448553,
          0.6024653312788906,
          0.595959595959596,
          0.7195685670261942,
          0.9876733436055469,
          0.6346516007532957,
          0.7401129943502825,
          0.6019517205957884,
          0.6942304399931519,
          0.8491696627289849,
          0.6759116589625065,
          0.5377503852080123,
          0.9452148604690978,
          0.8702277007361754,
          0.8293100496490328,
          0.768361581920904,
          0.5088169833932547,
          0.6228385550419449,
          1,
          0.6514295497346345,
          0.8106488614963192,
          0.8260571819893854,
          0.49529190207156315,
          0.5139530902242767,
          0.7471323403526794,
          0.8192090395480226,
          0.6745420304742339,
          0.5360383495976716,
          0.7224790275637734,
          0.6841294298921418,
          0.5283341893511385,
          0.709467556925184,
          0.6187296695771273,
          0.9289505221708612,
          0.7033042287279576,
          0.6567368601266906,
          0.6216401301147064,
          0.7399417907892485,
          0.83256291730868,
          0.6137647663071392,
          0.5850025680534156,
          0.8503680876562232,
          0.9082348912857388,
          0.67984934086629,
          0.7447354904982024,
          0.6829310049649033,
          0.5134394795411745,
          0.6777948981338812,
          0.825029960623181,
          0.5358671460366375,
          0.6978257147748673,
          0.6510871426125664,
          0.6973121040917651,
          0.61085430576956,
          0.5185755863721966,
          0.8424927238486561,
          0.6062318096216401,
          0.8957370313302517,
          0.7806882383153569,
          0.6558808423215203,
          0.6216401301147064,
          0.65040232836843,
          0.6171888375278206,
          0.7483307652799178,
          0.7842835130970724,
          0.7442218798151001,
          0.6866974833076528,
          0.5868858072247903,
          0.5901386748844376,
          0.6926896079438453,
          0.7443930833761343,
          0.677452491011813,
          0.6488614963191235,
          0.9125149803115906,
          0.8092792330080466,
          0.6473206642698168,
          0.5538435199452149,
          0.9760315014552303,
          0.5654853620955316,
          0.6120527306967986,
          0.5312446498887177,
          0.6010957027906181,
          0.7175141242937854,
          0.8965930491354221,
          0.7574045540147235,
          0.8945386064030132,
          0.6363636363636364,
          0.8263995891114535,
          0.7654511213833248,
          0.7010785824345147,
          0.7152884780003425,
          0.5707926724875878,
          0.6250642013353878,
          0.773326485190892,
          0.6728299948638932,
          0.8313644923814416,
          0.8476288306796782,
          0.7899332306111967,
          0.6901215545283342,
          0.7861667522684472,
          0.5993836671802774,
          0.8067111795925356,
          0.6000684814244136,
          0.6962848827255608,
          0.9842492723848657,
          0.7046738572162301,
          0.6344803971922616,
          0.7704160246533128,
          0.6483478856360213,
          0.5634309193631227,
          0.9164526622153741,
          0.46721451806197567
         ]
        },
        {
         "marker": {
          "color": "green",
          "size": 5
         },
         "mode": "markers",
         "name": "Cluster 3",
         "type": "scatter3d",
         "x": [
          0.3125,
          0.25,
          0.25,
          0.25,
          0.3125,
          0.3125,
          0.375,
          0.1875,
          0.25,
          0.375,
          0.4375,
          0.25,
          0.25,
          0.25,
          0.375,
          0.1875,
          0.3125,
          0.25,
          0.25,
          0.0625,
          0.125,
          0.3125,
          0.1875,
          0.3125,
          0.375,
          0.25,
          0.1875,
          0.4375,
          0.375,
          0.3125,
          0.375,
          0.3125,
          0.1875,
          0,
          0.3125,
          0.125,
          0.0625,
          0.25,
          0.1875,
          0.3125,
          0.4375,
          0.1875,
          0.1875,
          0.125,
          0.3125,
          0.3125,
          0.25,
          0.375,
          0.375,
          0.3125,
          0.25,
          0.3125,
          0.3125,
          0.4375,
          0.375,
          0.1875,
          0.5,
          0.3125,
          0.125,
          0.375,
          0.3125,
          0.375,
          0.1875,
          0.375,
          0.375,
          0.4375,
          0.125,
          0.25,
          0.0625,
          0.3125,
          0.25,
          0.375,
          0.25,
          0.0625,
          0.25,
          0.375,
          0.3125,
          0.3125,
          0.375,
          0.25,
          0.375,
          0.1875,
          0.25,
          0.375,
          0.375,
          0.1875,
          0.3125,
          0.3125,
          0.3125,
          0.5,
          0.1875,
          0.25,
          0.4375,
          0.25,
          0.375,
          0.125,
          0.25,
          0.25,
          0.125,
          0.25,
          0.25,
          0.25,
          0.25,
          0.1875,
          0.3125,
          0.375,
          0.1875,
          0.3125,
          0.1875,
          0.3125,
          0.1875,
          0.25,
          0.3125,
          0.25,
          0.1875
         ],
         "y": [
          0.39682539682539686,
          0.1111111111111111,
          0.2857142857142857,
          0.23809523809523808,
          0.23809523809523808,
          0.31746031746031744,
          0.3333333333333333,
          0.1111111111111111,
          0.23809523809523808,
          0.31746031746031744,
          0.2698412698412698,
          0.3333333333333333,
          0.2698412698412698,
          0.25396825396825395,
          0.25396825396825395,
          0.2222222222222222,
          0.1111111111111111,
          0.19047619047619047,
          0.25396825396825395,
          0.14285714285714285,
          0.2222222222222222,
          0.1746031746031746,
          0.15873015873015872,
          0.3333333333333333,
          0.19047619047619047,
          0.3333333333333333,
          0.2222222222222222,
          0.3333333333333333,
          0.365079365079365,
          0.14285714285714285,
          0.39682539682539686,
          0.4126984126984127,
          0.15873015873015872,
          0,
          0.31746031746031744,
          0.09523809523809523,
          0.19047619047619047,
          0.2857142857142857,
          0.07936507936507936,
          0.1111111111111111,
          0.2698412698412698,
          0.19047619047619047,
          0.25396825396825395,
          0.09523809523809523,
          0.31746031746031744,
          0.39682539682539686,
          0.30158730158730157,
          0.19047619047619047,
          0.2857142857142857,
          0.25396825396825395,
          0.25396825396825395,
          0.38095238095238093,
          0.31746031746031744,
          0.3333333333333333,
          0.39682539682539686,
          0.23809523809523808,
          0.31746031746031744,
          0.30158730158730157,
          0.12698412698412698,
          0.31746031746031744,
          0.2698412698412698,
          0.25396825396825395,
          0.25396825396825395,
          0.2857142857142857,
          0.3492063492063492,
          0.3333333333333333,
          0.12698412698412698,
          0.19047619047619047,
          0.047619047619047616,
          0.23809523809523808,
          0.19047619047619047,
          0.23809523809523808,
          0.2222222222222222,
          0.14285714285714285,
          0.15873015873015872,
          0.31746031746031744,
          0.38095238095238093,
          0.19047619047619047,
          0.2857142857142857,
          0.31746031746031744,
          0.4126984126984127,
          0.2222222222222222,
          0.25396825396825395,
          0.30158730158730157,
          0.25396825396825395,
          0.2222222222222222,
          0.365079365079365,
          0.19047619047619047,
          0.2857142857142857,
          0.3333333333333333,
          0.30158730158730157,
          0.31746031746031744,
          0.2857142857142857,
          0.23809523809523808,
          0.25396825396825395,
          0.12698412698412698,
          0.2857142857142857,
          0.25396825396825395,
          0.047619047619047616,
          0.2698412698412698,
          0.15873015873015872,
          0.4285714285714285,
          0.15873015873015872,
          0.15873015873015872,
          0.46031746031746035,
          0.365079365079365,
          0.2857142857142857,
          0.30158730158730157,
          0.1746031746031746,
          0.365079365079365,
          0.1111111111111111,
          0.3333333333333333,
          0.3492063492063492,
          0.3492063492063492,
          0.30158730158730157
         ],
         "z": [
          0.30868002054442734,
          0.10974148262283856,
          0.26570792672487586,
          0.2247902756377333,
          0.23266563944530044,
          0.19568567026194145,
          0.3228899161102551,
          0.0768703989042972,
          0.15630885122410548,
          0.3466872110939908,
          0.3276836158192091,
          0.2869371682931005,
          0.26382468755350114,
          0.14021571648690295,
          0.1958568738229755,
          0.17411402157164868,
          0.1905495634309194,
          0.24516349940078752,
          0.1337099811676083,
          0.1645266221537408,
          0.1537407978085944,
          0.17770929635336413,
          0.1268618387262455,
          0.29275808936825887,
          0.1559664441020373,
          0.27033042287279574,
          0.050162643382982375,
          0.2937853107344633,
          0.30645437425098443,
          0.10700222564629347,
          0.2809450436569081,
          0.2953261427837699,
          0.1095702790618045,
          0,
          0.384180790960452,
          0.08491696627289846,
          0.026536551960280763,
          0.21931176168464306,
          0.1251498031159048,
          0.24088341037493582,
          0.2501284026707756,
          0.14261256634137992,
          0.1902071563088512,
          0.15562403697996918,
          0.3629515493922274,
          0.2862523540489642,
          0.241397021058038,
          0.3100496490326999,
          0.23848656052045886,
          0.24105461393596989,
          0.25697654511213835,
          0.2100667693888033,
          0.26913199794555726,
          0.258688580722479,
          0.27478171545968155,
          0.17942133196370486,
          0.24036979969183359,
          0.16692347200821778,
          0.08936825885978428,
          0.3155281629857901,
          0.13713405238828968,
          0.2819722650231125,
          0.14192775209724362,
          0.2953261427837699,
          0.33333333333333337,
          0.2475603492552645,
          0.08988186954288649,
          0.30011984249272383,
          0.12378017462763224,
          0.2922444786851567,
          0.2425954459852765,
          0.2598870056497175,
          0.24807395993836673,
          0.08611539120013698,
          0.11795925355247389,
          0.16983393254579698,
          0.187125492210238,
          0.19465844889573702,
          0.2937853107344633,
          0.24807395993836673,
          0.2549221023797295,
          0.16555384351994523,
          0.2056154768019175,
          0.2482451634994008,
          0.2590309878445472,
          0.19465844889573702,
          0.2771785653141585,
          0.273412086971409,
          0.23437767505564117,
          0.21075158363293955,
          0.2342064714946071,
          0.20356103406950865,
          0.3427495291902072,
          0.22547508988186954,
          0.13610683102208526,
          0.1837014209895566,
          0.22376305427152887,
          0.037151172744393085,
          0.03954802259887005,
          0.3021742852251327,
          0.20321862694744053,
          0.39256976545112143,
          0.2169149118301661,
          0.0847457627118644,
          0.2624550590652286,
          0.2134908406094847,
          0.2643382982366033,
          0.3021742852251327,
          0.15322718712549221,
          0.2621126519431604,
          0.11248073959938365,
          0.38880328710837186,
          0.40609484677281293,
          0.3264851908919706,
          0.3145009416195857
         ]
        },
        {
         "marker": {
          "color": "black",
          "size": 10
         },
         "mode": "markers",
         "name": "Centroids",
         "type": "scatter3d",
         "x": [
          0.500307881773399,
          0.7395,
          0.27554347826086956
         ],
         "y": [
          0.4695441394948784,
          0.7277460317460317,
          0.254520358868185
         ],
         "z": [
          0.43884026876428983,
          0.7060749871597329,
          0.21905570070640076
         ]
        }
       ],
       "layout": {
        "height": 600,
        "scene": {
         "xaxis": {
          "title": {
           "text": "TransactionCount"
          }
         },
         "yaxis": {
          "title": {
           "text": "TotalQty"
          }
         },
         "zaxis": {
          "title": {
           "text": "TotalAmountSum"
          }
         }
        },
        "template": {
         "data": {
          "bar": [
           {
            "error_x": {
             "color": "#2a3f5f"
            },
            "error_y": {
             "color": "#2a3f5f"
            },
            "marker": {
             "line": {
              "color": "#E5ECF6",
              "width": 0.5
             },
             "pattern": {
              "fillmode": "overlay",
              "size": 10,
              "solidity": 0.2
             }
            },
            "type": "bar"
           }
          ],
          "barpolar": [
           {
            "marker": {
             "line": {
              "color": "#E5ECF6",
              "width": 0.5
             },
             "pattern": {
              "fillmode": "overlay",
              "size": 10,
              "solidity": 0.2
             }
            },
            "type": "barpolar"
           }
          ],
          "carpet": [
           {
            "aaxis": {
             "endlinecolor": "#2a3f5f",
             "gridcolor": "white",
             "linecolor": "white",
             "minorgridcolor": "white",
             "startlinecolor": "#2a3f5f"
            },
            "baxis": {
             "endlinecolor": "#2a3f5f",
             "gridcolor": "white",
             "linecolor": "white",
             "minorgridcolor": "white",
             "startlinecolor": "#2a3f5f"
            },
            "type": "carpet"
           }
          ],
          "choropleth": [
           {
            "colorbar": {
             "outlinewidth": 0,
             "ticks": ""
            },
            "type": "choropleth"
           }
          ],
          "contour": [
           {
            "colorbar": {
             "outlinewidth": 0,
             "ticks": ""
            },
            "colorscale": [
             [
              0,
              "#0d0887"
             ],
             [
              0.1111111111111111,
              "#46039f"
             ],
             [
              0.2222222222222222,
              "#7201a8"
             ],
             [
              0.3333333333333333,
              "#9c179e"
             ],
             [
              0.4444444444444444,
              "#bd3786"
             ],
             [
              0.5555555555555556,
              "#d8576b"
             ],
             [
              0.6666666666666666,
              "#ed7953"
             ],
             [
              0.7777777777777778,
              "#fb9f3a"
             ],
             [
              0.8888888888888888,
              "#fdca26"
             ],
             [
              1,
              "#f0f921"
             ]
            ],
            "type": "contour"
           }
          ],
          "contourcarpet": [
           {
            "colorbar": {
             "outlinewidth": 0,
             "ticks": ""
            },
            "type": "contourcarpet"
           }
          ],
          "heatmap": [
           {
            "colorbar": {
             "outlinewidth": 0,
             "ticks": ""
            },
            "colorscale": [
             [
              0,
              "#0d0887"
             ],
             [
              0.1111111111111111,
              "#46039f"
             ],
             [
              0.2222222222222222,
              "#7201a8"
             ],
             [
              0.3333333333333333,
              "#9c179e"
             ],
             [
              0.4444444444444444,
              "#bd3786"
             ],
             [
              0.5555555555555556,
              "#d8576b"
             ],
             [
              0.6666666666666666,
              "#ed7953"
             ],
             [
              0.7777777777777778,
              "#fb9f3a"
             ],
             [
              0.8888888888888888,
              "#fdca26"
             ],
             [
              1,
              "#f0f921"
             ]
            ],
            "type": "heatmap"
           }
          ],
          "heatmapgl": [
           {
            "colorbar": {
             "outlinewidth": 0,
             "ticks": ""
            },
            "colorscale": [
             [
              0,
              "#0d0887"
             ],
             [
              0.1111111111111111,
              "#46039f"
             ],
             [
              0.2222222222222222,
              "#7201a8"
             ],
             [
              0.3333333333333333,
              "#9c179e"
             ],
             [
              0.4444444444444444,
              "#bd3786"
             ],
             [
              0.5555555555555556,
              "#d8576b"
             ],
             [
              0.6666666666666666,
              "#ed7953"
             ],
             [
              0.7777777777777778,
              "#fb9f3a"
             ],
             [
              0.8888888888888888,
              "#fdca26"
             ],
             [
              1,
              "#f0f921"
             ]
            ],
            "type": "heatmapgl"
           }
          ],
          "histogram": [
           {
            "marker": {
             "pattern": {
              "fillmode": "overlay",
              "size": 10,
              "solidity": 0.2
             }
            },
            "type": "histogram"
           }
          ],
          "histogram2d": [
           {
            "colorbar": {
             "outlinewidth": 0,
             "ticks": ""
            },
            "colorscale": [
             [
              0,
              "#0d0887"
             ],
             [
              0.1111111111111111,
              "#46039f"
             ],
             [
              0.2222222222222222,
              "#7201a8"
             ],
             [
              0.3333333333333333,
              "#9c179e"
             ],
             [
              0.4444444444444444,
              "#bd3786"
             ],
             [
              0.5555555555555556,
              "#d8576b"
             ],
             [
              0.6666666666666666,
              "#ed7953"
             ],
             [
              0.7777777777777778,
              "#fb9f3a"
             ],
             [
              0.8888888888888888,
              "#fdca26"
             ],
             [
              1,
              "#f0f921"
             ]
            ],
            "type": "histogram2d"
           }
          ],
          "histogram2dcontour": [
           {
            "colorbar": {
             "outlinewidth": 0,
             "ticks": ""
            },
            "colorscale": [
             [
              0,
              "#0d0887"
             ],
             [
              0.1111111111111111,
              "#46039f"
             ],
             [
              0.2222222222222222,
              "#7201a8"
             ],
             [
              0.3333333333333333,
              "#9c179e"
             ],
             [
              0.4444444444444444,
              "#bd3786"
             ],
             [
              0.5555555555555556,
              "#d8576b"
             ],
             [
              0.6666666666666666,
              "#ed7953"
             ],
             [
              0.7777777777777778,
              "#fb9f3a"
             ],
             [
              0.8888888888888888,
              "#fdca26"
             ],
             [
              1,
              "#f0f921"
             ]
            ],
            "type": "histogram2dcontour"
           }
          ],
          "mesh3d": [
           {
            "colorbar": {
             "outlinewidth": 0,
             "ticks": ""
            },
            "type": "mesh3d"
           }
          ],
          "parcoords": [
           {
            "line": {
             "colorbar": {
              "outlinewidth": 0,
              "ticks": ""
             }
            },
            "type": "parcoords"
           }
          ],
          "pie": [
           {
            "automargin": true,
            "type": "pie"
           }
          ],
          "scatter": [
           {
            "fillpattern": {
             "fillmode": "overlay",
             "size": 10,
             "solidity": 0.2
            },
            "type": "scatter"
           }
          ],
          "scatter3d": [
           {
            "line": {
             "colorbar": {
              "outlinewidth": 0,
              "ticks": ""
             }
            },
            "marker": {
             "colorbar": {
              "outlinewidth": 0,
              "ticks": ""
             }
            },
            "type": "scatter3d"
           }
          ],
          "scattercarpet": [
           {
            "marker": {
             "colorbar": {
              "outlinewidth": 0,
              "ticks": ""
             }
            },
            "type": "scattercarpet"
           }
          ],
          "scattergeo": [
           {
            "marker": {
             "colorbar": {
              "outlinewidth": 0,
              "ticks": ""
             }
            },
            "type": "scattergeo"
           }
          ],
          "scattergl": [
           {
            "marker": {
             "colorbar": {
              "outlinewidth": 0,
              "ticks": ""
             }
            },
            "type": "scattergl"
           }
          ],
          "scattermapbox": [
           {
            "marker": {
             "colorbar": {
              "outlinewidth": 0,
              "ticks": ""
             }
            },
            "type": "scattermapbox"
           }
          ],
          "scatterpolar": [
           {
            "marker": {
             "colorbar": {
              "outlinewidth": 0,
              "ticks": ""
             }
            },
            "type": "scatterpolar"
           }
          ],
          "scatterpolargl": [
           {
            "marker": {
             "colorbar": {
              "outlinewidth": 0,
              "ticks": ""
             }
            },
            "type": "scatterpolargl"
           }
          ],
          "scatterternary": [
           {
            "marker": {
             "colorbar": {
              "outlinewidth": 0,
              "ticks": ""
             }
            },
            "type": "scatterternary"
           }
          ],
          "surface": [
           {
            "colorbar": {
             "outlinewidth": 0,
             "ticks": ""
            },
            "colorscale": [
             [
              0,
              "#0d0887"
             ],
             [
              0.1111111111111111,
              "#46039f"
             ],
             [
              0.2222222222222222,
              "#7201a8"
             ],
             [
              0.3333333333333333,
              "#9c179e"
             ],
             [
              0.4444444444444444,
              "#bd3786"
             ],
             [
              0.5555555555555556,
              "#d8576b"
             ],
             [
              0.6666666666666666,
              "#ed7953"
             ],
             [
              0.7777777777777778,
              "#fb9f3a"
             ],
             [
              0.8888888888888888,
              "#fdca26"
             ],
             [
              1,
              "#f0f921"
             ]
            ],
            "type": "surface"
           }
          ],
          "table": [
           {
            "cells": {
             "fill": {
              "color": "#EBF0F8"
             },
             "line": {
              "color": "white"
             }
            },
            "header": {
             "fill": {
              "color": "#C8D4E3"
             },
             "line": {
              "color": "white"
             }
            },
            "type": "table"
           }
          ]
         },
         "layout": {
          "annotationdefaults": {
           "arrowcolor": "#2a3f5f",
           "arrowhead": 0,
           "arrowwidth": 1
          },
          "autotypenumbers": "strict",
          "coloraxis": {
           "colorbar": {
            "outlinewidth": 0,
            "ticks": ""
           }
          },
          "colorscale": {
           "diverging": [
            [
             0,
             "#8e0152"
            ],
            [
             0.1,
             "#c51b7d"
            ],
            [
             0.2,
             "#de77ae"
            ],
            [
             0.3,
             "#f1b6da"
            ],
            [
             0.4,
             "#fde0ef"
            ],
            [
             0.5,
             "#f7f7f7"
            ],
            [
             0.6,
             "#e6f5d0"
            ],
            [
             0.7,
             "#b8e186"
            ],
            [
             0.8,
             "#7fbc41"
            ],
            [
             0.9,
             "#4d9221"
            ],
            [
             1,
             "#276419"
            ]
           ],
           "sequential": [
            [
             0,
             "#0d0887"
            ],
            [
             0.1111111111111111,
             "#46039f"
            ],
            [
             0.2222222222222222,
             "#7201a8"
            ],
            [
             0.3333333333333333,
             "#9c179e"
            ],
            [
             0.4444444444444444,
             "#bd3786"
            ],
            [
             0.5555555555555556,
             "#d8576b"
            ],
            [
             0.6666666666666666,
             "#ed7953"
            ],
            [
             0.7777777777777778,
             "#fb9f3a"
            ],
            [
             0.8888888888888888,
             "#fdca26"
            ],
            [
             1,
             "#f0f921"
            ]
           ],
           "sequentialminus": [
            [
             0,
             "#0d0887"
            ],
            [
             0.1111111111111111,
             "#46039f"
            ],
            [
             0.2222222222222222,
             "#7201a8"
            ],
            [
             0.3333333333333333,
             "#9c179e"
            ],
            [
             0.4444444444444444,
             "#bd3786"
            ],
            [
             0.5555555555555556,
             "#d8576b"
            ],
            [
             0.6666666666666666,
             "#ed7953"
            ],
            [
             0.7777777777777778,
             "#fb9f3a"
            ],
            [
             0.8888888888888888,
             "#fdca26"
            ],
            [
             1,
             "#f0f921"
            ]
           ]
          },
          "colorway": [
           "#636efa",
           "#EF553B",
           "#00cc96",
           "#ab63fa",
           "#FFA15A",
           "#19d3f3",
           "#FF6692",
           "#B6E880",
           "#FF97FF",
           "#FECB52"
          ],
          "font": {
           "color": "#2a3f5f"
          },
          "geo": {
           "bgcolor": "white",
           "lakecolor": "white",
           "landcolor": "#E5ECF6",
           "showlakes": true,
           "showland": true,
           "subunitcolor": "white"
          },
          "hoverlabel": {
           "align": "left"
          },
          "hovermode": "closest",
          "mapbox": {
           "style": "light"
          },
          "paper_bgcolor": "white",
          "plot_bgcolor": "#E5ECF6",
          "polar": {
           "angularaxis": {
            "gridcolor": "white",
            "linecolor": "white",
            "ticks": ""
           },
           "bgcolor": "#E5ECF6",
           "radialaxis": {
            "gridcolor": "white",
            "linecolor": "white",
            "ticks": ""
           }
          },
          "scene": {
           "xaxis": {
            "backgroundcolor": "#E5ECF6",
            "gridcolor": "white",
            "gridwidth": 2,
            "linecolor": "white",
            "showbackground": true,
            "ticks": "",
            "zerolinecolor": "white"
           },
           "yaxis": {
            "backgroundcolor": "#E5ECF6",
            "gridcolor": "white",
            "gridwidth": 2,
            "linecolor": "white",
            "showbackground": true,
            "ticks": "",
            "zerolinecolor": "white"
           },
           "zaxis": {
            "backgroundcolor": "#E5ECF6",
            "gridcolor": "white",
            "gridwidth": 2,
            "linecolor": "white",
            "showbackground": true,
            "ticks": "",
            "zerolinecolor": "white"
           }
          },
          "shapedefaults": {
           "line": {
            "color": "#2a3f5f"
           }
          },
          "ternary": {
           "aaxis": {
            "gridcolor": "white",
            "linecolor": "white",
            "ticks": ""
           },
           "baxis": {
            "gridcolor": "white",
            "linecolor": "white",
            "ticks": ""
           },
           "bgcolor": "#E5ECF6",
           "caxis": {
            "gridcolor": "white",
            "linecolor": "white",
            "ticks": ""
           }
          },
          "title": {
           "x": 0.05
          },
          "xaxis": {
           "automargin": true,
           "gridcolor": "white",
           "linecolor": "white",
           "ticks": "",
           "title": {
            "standoff": 15
           },
           "zerolinecolor": "white",
           "zerolinewidth": 2
          },
          "yaxis": {
           "automargin": true,
           "gridcolor": "white",
           "linecolor": "white",
           "ticks": "",
           "title": {
            "standoff": 15
           },
           "zerolinecolor": "white",
           "zerolinewidth": 2
          }
         }
        },
        "title": {
         "text": "Scatter Plot dengan Centroid"
        },
        "width": 800
       }
      }
     },
     "metadata": {},
     "output_type": "display_data"
    }
   ],
   "source": [
    "import plotly.graph_objects as go\n",
    "import numpy as np\n",
    "\n",
    "centroids = kmeans.cluster_centers_\n",
    "cluster_colors = ['red', 'blue', 'green']  # Warna untuk setiap kluster\n",
    "\n",
    "fig = go.Figure()\n",
    "\n",
    "# Scatter plot for data points in each cluster\n",
    "for cluster in range(3):\n",
    "    fig.add_trace(go.Scatter3d(\n",
    "        x=X[labels == cluster, 0], y=X[labels == cluster, 1], z=X[labels == cluster, 2], mode='markers',\n",
    "        marker=dict(size=5, color=cluster_colors[cluster]),\n",
    "        name=f'Cluster {cluster + 1}'\n",
    "    ))\n",
    "\n",
    "# Scatter plot for centroids\n",
    "fig.add_trace(go.Scatter3d(\n",
    "    x=centroids[:, 0], y=centroids[:, 1], z=centroids[:, 2], mode='markers',\n",
    "    marker=dict(size=10, color='black'),\n",
    "    name='Centroids'\n",
    "))\n",
    "\n",
    "fig.update_layout(\n",
    "    scene=dict(\n",
    "        xaxis=dict(title='TransactionCount'),\n",
    "        yaxis=dict(title='TotalQty'),\n",
    "        zaxis=dict(title='TotalAmountSum'),\n",
    "    ),\n",
    "    title='Scatter Plot dengan Centroid',\n",
    "    width=800,  \n",
    "    height=600 \n",
    ")\n",
    "\n",
    "fig.show()"
   ]
  },
  {
   "cell_type": "code",
   "execution_count": 797,
   "metadata": {},
   "outputs": [
    {
     "data": {
      "image/png": "[encoded data removed]",
      "text/plain": [
       "<Figure size 1440x720 with 1 Axes>"
      ]
     },
     "metadata": {},
     "output_type": "display_data"
    }
   ],
   "source": [
    "plt.figure(figsize=(20,10))\n",
    "plt.scatter(X[:,0],X[:,1], c=kmeans.labels_, cmap='rainbow', s = 75)\n",
    "plt.scatter(kmeans.cluster_centers_[:,0],kmeans.cluster_centers_[:,1],color='black', s=200, marker='X')\n",
    "plt.xlabel(\"TransactionCount\", fontsize=14)\n",
    "plt.ylabel(\"TotalQty\", fontsize=14)\n",
    "plt.xticks(fontsize=14)\n",
    "plt.yticks(fontsize=14)\n",
    "plt.title(\"Scatter Plot - Clustering\", fontsize=14)\n",
    "plt.show()"
   ]
  },
  {
   "cell_type": "code",
   "execution_count": 829,
   "metadata": {},
   "outputs": [
    {
     "data": {
      "text/plain": [
       "0    203\n",
       "1    125\n",
       "2    115\n",
       "Name: Cluster, dtype: int64"
      ]
     },
     "execution_count": 829,
     "metadata": {},
     "output_type": "execute_result"
    }
   ],
   "source": [
    "df_result = df_grouped.copy()\n",
    "df_result['Cluster'] = labels\n",
    "df_result['Cluster'].value_counts().sort_values(ascending=False)"
   ]
  },
  {
   "cell_type": "code",
   "execution_count": 846,
   "metadata": {},
   "outputs": [
    {
     "data": {
      "text/html": [
       "<div>\n",
       "<style scoped>\n",
       "    .dataframe tbody tr th:only-of-type {\n",
       "        vertical-align: middle;\n",
       "    }\n",
       "\n",
       "    .dataframe tbody tr th {\n",
       "        vertical-align: top;\n",
       "    }\n",
       "\n",
       "    .dataframe thead th {\n",
       "        text-align: right;\n",
       "    }\n",
       "</style>\n",
       "<table border=\"1\" class=\"dataframe\">\n",
       "  <thead>\n",
       "    <tr style=\"text-align: right;\">\n",
       "      <th></th>\n",
       "      <th>TransactionCount</th>\n",
       "      <th>TotalQty</th>\n",
       "      <th>TotalAmountSum</th>\n",
       "    </tr>\n",
       "    <tr>\n",
       "      <th>Cluster</th>\n",
       "      <th></th>\n",
       "      <th></th>\n",
       "      <th></th>\n",
       "    </tr>\n",
       "  </thead>\n",
       "  <tbody>\n",
       "    <tr>\n",
       "      <th>0</th>\n",
       "      <td>11.004926</td>\n",
       "      <td>39.581281</td>\n",
       "      <td>348426.600985</td>\n",
       "    </tr>\n",
       "    <tr>\n",
       "      <th>1</th>\n",
       "      <td>14.832000</td>\n",
       "      <td>55.848000</td>\n",
       "      <td>504518.400000</td>\n",
       "    </tr>\n",
       "    <tr>\n",
       "      <th>2</th>\n",
       "      <td>7.408696</td>\n",
       "      <td>26.034783</td>\n",
       "      <td>220050.434783</td>\n",
       "    </tr>\n",
       "  </tbody>\n",
       "</table>\n",
       "</div>"
      ],
      "text/plain": [
       "         TransactionCount   TotalQty  TotalAmountSum\n",
       "Cluster                                             \n",
       "0               11.004926  39.581281   348426.600985\n",
       "1               14.832000  55.848000   504518.400000\n",
       "2                7.408696  26.034783   220050.434783"
      ]
     },
     "execution_count": 846,
     "metadata": {},
     "output_type": "execute_result"
    }
   ],
   "source": [
    "# clusters.groupby('prediction').mean()\n",
    "df_result.groupby('Cluster').mean()"
   ]
  },
  {
   "cell_type": "code",
   "execution_count": 842,
   "metadata": {},
   "outputs": [
    {
     "name": "stdout",
     "output_type": "stream",
     "text": [
      "~ ~ ~ Model Metrics Scores ~ ~ ~\n",
      "Silhouette Score\t: 0.43339306239644226\n",
      "Davies-Bouldin Score\t: 0.7387372361994299\n",
      "Calinski-Harabasz Score\t: 735.6779809934534\n"
     ]
    }
   ],
   "source": [
    "sil_score = silhouette_score(X, labels)\n",
    "db_score = davies_bouldin_score(X, labels)\n",
    "ch_score = calinski_harabasz_score(X, labels)\n",
    "\n",
    "print(\"~ ~ ~ Model Metrics Scores ~ ~ ~\")\n",
    "print(f\"Silhouette Score\\t: {sil_score}\")\n",
    "print(f\"Davies-Bouldin Score\\t: {db_score}\")\n",
    "print(f\"Calinski-Harabasz Score\\t: {ch_score}\")"
   ]
  }
 ],
 "metadata": {
  "kernelspec": {
   "display_name": "Python 3 (ipykernel)",
   "language": "python",
   "name": "python3"
  },
  "language_info": {
   "codemirror_mode": {
    "name": "ipython",
    "version": 3
   },
   "file_extension": ".py",
   "mimetype": "text/x-python",
   "name": "python",
   "nbconvert_exporter": "python",
   "pygments_lexer": "ipython3",
   "version": "3.10.7"
  }
 },
 "nbformat": 4,
 "nbformat_minor": 2
}
